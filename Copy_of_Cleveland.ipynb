{
  "nbformat": 4,
  "nbformat_minor": 0,
  "metadata": {
    "colab": {
      "name": "Copy of Cleveland.ipynb",
      "provenance": [],
      "collapsed_sections": [
        "jilY_c1FdWhY",
        "yM--CvlSe8CX",
        "KkwaWp3dhG6a",
        "s0kPs_pp3T_6",
        "MCYgWwi5AWhQ",
        "-1o2_o4cRlS1"
      ],
      "include_colab_link": true
    },
    "kernelspec": {
      "name": "python3",
      "display_name": "Python 3"
    },
    "accelerator": "GPU"
  },
  "cells": [
    {
      "cell_type": "markdown",
      "metadata": {
        "id": "view-in-github",
        "colab_type": "text"
      },
      "source": [
        "<a href=\"https://colab.research.google.com/github/alfafimel/HEART-DISEASE-PREDICTION-USING-ML/blob/main/Copy_of_Cleveland.ipynb\" target=\"_parent\"><img src=\"https://colab.research.google.com/assets/colab-badge.svg\" alt=\"Open In Colab\"/></a>"
      ]
    },
    {
      "cell_type": "markdown",
      "metadata": {
        "id": "J_fHwxe5PfxM"
      },
      "source": [
        "##**DEFINE THE QUESTION**##\n",
        "\n",
        "One of the prominent diseases that affect many people during middle or old age is heart disease, and in many cases it eventually leads to fatal complications. \n",
        "\n",
        "One-third of all global deaths are due to heart diseases. Half of the deaths in the United States and in other developed countries are due to heart ailment\n"
      ]
    },
    {
      "cell_type": "markdown",
      "metadata": {
        "id": "JW0ex_xjQkJW"
      },
      "source": [
        "##METRICS FOR SUCCESS##"
      ]
    },
    {
      "cell_type": "markdown",
      "metadata": {
        "id": "wIoGSj3lQpKQ"
      },
      "source": [
        "# **THE CONTEXT**\n",
        "\n",
        "The Cleveland Heart Disease Database (CHDD) is considered the de facto database for heart disease research \n",
        "Age, sex, chest pain, family history, cholesterol, poor diet, high blood pressure, obesity, physical inactivity, and alcohol intake are considered to be risk factors for heart disease, and hereditary risk factors such as high blood pressure and diabetes also lead to heart disease"
      ]
    },
    {
      "cell_type": "markdown",
      "metadata": {
        "id": "FK4Cm_j2SPBH"
      },
      "source": [
        "cp - chest pain type (1 = typical angina; 2 = atypical angina; 3 = non-anginal pain; 4 = asymptomatic)\n",
        "trestbps - resting blood pressure (in mm Hg on admission to the hospital)\n",
        "chol - serum cholestoral in mg/dl\n",
        "fbs - fasting blood sugar > 120 mg/dl (1 = true; 0 = false)\n",
        "restecg - resting electrocardiographic results (0 = normal; 1 = having ST-T\n",
        "thalach - maximum heart rate achieved\n",
        "exang - exercise induced angina (1 = yes; 0 = no)\n",
        "oldpeak - ST depression induced by exercise relative to rest\n",
        "slope - the slope of the peak exercise ST segment (1 = upsloping; 2 = flat; 3 = downsloping)\n",
        "ca - number of major vessels (0-3) colored by flourosopy\n",
        "thal - 3 = normal; 6 = fixed defect; 7 = reversable defect\n",
        "target - the predicted attribute - "
      ]
    },
    {
      "cell_type": "markdown",
      "metadata": {
        "id": "c2qSVaALczbi"
      },
      "source": [
        "# Importing the libraries"
      ]
    },
    {
      "cell_type": "code",
      "metadata": {
        "id": "dIxfcujyV4tV"
      },
      "source": [
        "# Loading the libraries\n",
        "import pandas as pd\n",
        "import numpy as np\n",
        "import matplotlib.pyplot as plt\n",
        "from scipy import stats\n"
      ],
      "execution_count": null,
      "outputs": []
    },
    {
      "cell_type": "code",
      "metadata": {
        "id": "0YUvp_XrHNF_"
      },
      "source": [
        "# Reading the data\n",
        "cleveland = pd.read_csv(\"/content/processed.cleveland.data\", encoding='latin-1', names=['age', 'sex', 'cp', 'trestbps', 'chol', 'fbs', 'restecg', 'thalach', 'exang', 'oldpeak', 'slope', 'ca', 'thal', 'target'], na_values='?')"
      ],
      "execution_count": null,
      "outputs": []
    },
    {
      "cell_type": "markdown",
      "metadata": {
        "id": "jilY_c1FdWhY"
      },
      "source": [
        "## Previewing the dataset"
      ]
    },
    {
      "cell_type": "code",
      "metadata": {
        "id": "Yv_KVVZISIWa",
        "colab": {
          "base_uri": "https://localhost:8080/"
        },
        "outputId": "97e370f0-878f-4262-9804-ba9ff3c1b9c7"
      },
      "source": [
        "# Reading and viewing the names data\n",
        "with open('heart-disease.names') as description:\n",
        "  names = description.read()\n",
        "  print(names)"
      ],
      "execution_count": null,
      "outputs": [
        {
          "output_type": "stream",
          "text": [
            "Publication Request: \n",
            "   >>>>>>>>>>>>>>>>>>>>>>>>>>>>>>>>>>>>>>>>>>>>>>>>>>>>>>>>>>>>>>>>>>>>>>\n",
            "   This file describes the contents of the heart-disease directory.\n",
            "\n",
            "   This directory contains 4 databases concerning heart disease diagnosis.\n",
            "   All attributes are numeric-valued.  The data was collected from the\n",
            "   four following locations:\n",
            "\n",
            "     1. Cleveland Clinic Foundation (cleveland.data)\n",
            "     2. Hungarian Institute of Cardiology, Budapest (hungarian.data)\n",
            "     3. V.A. Medical Center, Long Beach, CA (long-beach-va.data)\n",
            "     4. University Hospital, Zurich, Switzerland (switzerland.data)\n",
            "\n",
            "   Each database has the same instance format.  While the databases have 76\n",
            "   raw attributes, only 14 of them are actually used.  Thus I've taken the\n",
            "   liberty of making 2 copies of each database: one with all the attributes\n",
            "   and 1 with the 14 attributes actually used in past experiments.\n",
            "\n",
            "   The authors of the databases have requested:\n",
            "\n",
            "      ...that any publications resulting from the use of the data include the \n",
            "      names of the principal investigator responsible for the data collection\n",
            "      at each institution.  They would be:\n",
            "\n",
            "       1. Hungarian Institute of Cardiology. Budapest: Andras Janosi, M.D.\n",
            "       2. University Hospital, Zurich, Switzerland: William Steinbrunn, M.D.\n",
            "       3. University Hospital, Basel, Switzerland: Matthias Pfisterer, M.D.\n",
            "       4. V.A. Medical Center, Long Beach and Cleveland Clinic Foundation:\n",
            "\t  Robert Detrano, M.D., Ph.D.\n",
            "\n",
            "   Thanks in advance for abiding by this request.\n",
            "\n",
            "   David Aha\n",
            "   July 22, 1988\n",
            "   >>>>>>>>>>>>>>>>>>>>>>>>>>>>>>>>>>>>>>>>>>>>>>>>>>>>>>>>>>>>>>>>>>>>>>\n",
            "\n",
            "1. Title: Heart Disease Databases\n",
            "\n",
            "2. Source Information:\n",
            "   (a) Creators: \n",
            "       -- 1. Hungarian Institute of Cardiology. Budapest: Andras Janosi, M.D.\n",
            "       -- 2. University Hospital, Zurich, Switzerland: William Steinbrunn, M.D.\n",
            "       -- 3. University Hospital, Basel, Switzerland: Matthias Pfisterer, M.D.\n",
            "       -- 4. V.A. Medical Center, Long Beach and Cleveland Clinic Foundation:\n",
            "             Robert Detrano, M.D., Ph.D.\n",
            "   (b) Donor: David W. Aha (aha@ics.uci.edu) (714) 856-8779   \n",
            "   (c) Date: July, 1988\n",
            "\n",
            "3. Past Usage:\n",
            "    1. Detrano,~R., Janosi,~A., Steinbrunn,~W., Pfisterer,~M., Schmid,~J.,\n",
            "       Sandhu,~S., Guppy,~K., Lee,~S., \\& Froelicher,~V. (1989).  {\\it \n",
            "       International application of a new probability algorithm for the \n",
            "       diagnosis of coronary artery disease.}  {\\it American Journal of \n",
            "       Cardiology}, {\\it 64},304--310.\n",
            "       -- International Probability Analysis \n",
            "       -- Address: Robert Detrano, M.D.\n",
            "                   Cardiology 111-C\n",
            "                   V.A. Medical Center\n",
            "                   5901 E. 7th Street\n",
            "                   Long Beach, CA 90028\n",
            "       -- Results in percent accuracy: (for 0.5 probability threshold)\n",
            "             Data Name:  CDF    CADENZA\n",
            "          -- Hungarian   77     74\n",
            "             Long beach  79     77\n",
            "             Swiss       81     81\n",
            "          -- Approximately a 77% correct classification accuracy with a\n",
            "             logistic-regression-derived discriminant function\n",
            "    2. David W. Aha & Dennis Kibler\n",
            "       -- \n",
            "          \n",
            "          \n",
            "          -- Instance-based prediction of heart-disease presence with the \n",
            "             Cleveland database\n",
            "             -- NTgrowth: 77.0% accuracy\n",
            "             --       C4: 74.8% accuracy\n",
            "    3. John Gennari\n",
            "       -- Gennari, J.~H., Langley, P, \\& Fisher, D. (1989). Models of\n",
            "          incremental concept formation. {\\it Artificial Intelligence, 40},\n",
            "          11--61.\n",
            "       -- Results: \n",
            "          -- The CLASSIT conceptual clustering system achieved a 78.9% accuracy\n",
            "             on the Cleveland database.\n",
            "\n",
            "4. Relevant Information:\n",
            "     This database contains 76 attributes, but all published experiments\n",
            "     refer to using a subset of 14 of them.  In particular, the Cleveland\n",
            "     database is the only one that has been used by ML researchers to \n",
            "     this date.  The \"goal\" field refers to the presence of heart disease\n",
            "     in the patient.  It is integer valued from 0 (no presence) to 4.\n",
            "     Experiments with the Cleveland database have concentrated on simply\n",
            "     attempting to distinguish presence (values 1,2,3,4) from absence (value\n",
            "     0).  \n",
            "   \n",
            "     The names and social security numbers of the patients were recently \n",
            "     removed from the database, replaced with dummy values.\n",
            "\n",
            "     One file has been \"processed\", that one containing the Cleveland \n",
            "     database.  All four unprocessed files also exist in this directory.\n",
            "    \n",
            "5. Number of Instances: \n",
            "        Database:    # of instances:\n",
            "          Cleveland: 303\n",
            "          Hungarian: 294\n",
            "        Switzerland: 123\n",
            "      Long Beach VA: 200\n",
            "\n",
            "6. Number of Attributes: 76 (including the predicted attribute)\n",
            "\n",
            "7. Attribute Information:\n",
            "   -- Only 14 used\n",
            "      -- 1. #3  (age)       \n",
            "      -- 2. #4  (sex)       \n",
            "      -- 3. #9  (cp)        \n",
            "      -- 4. #10 (trestbps)  \n",
            "      -- 5. #12 (chol)      \n",
            "      -- 6. #16 (fbs)       \n",
            "      -- 7. #19 (restecg)   \n",
            "      -- 8. #32 (thalach)   \n",
            "      -- 9. #38 (exang)     \n",
            "      -- 10. #40 (oldpeak)   \n",
            "      -- 11. #41 (slope)     \n",
            "      -- 12. #44 (ca)        \n",
            "      -- 13. #51 (thal)      \n",
            "      -- 14. #58 (num)       (the predicted attribute)\n",
            "\n",
            "   -- Complete attribute documentation:\n",
            "      1 id: patient identification number\n",
            "      2 ccf: social security number (I replaced this with a dummy value of 0)\n",
            "      3 age: age in years\n",
            "      4 sex: sex (1 = male; 0 = female)\n",
            "      5 painloc: chest pain location (1 = substernal; 0 = otherwise)\n",
            "      6 painexer (1 = provoked by exertion; 0 = otherwise)\n",
            "      7 relrest (1 = relieved after rest; 0 = otherwise)\n",
            "      8 pncaden (sum of 5, 6, and 7)\n",
            "      9 cp: chest pain type\n",
            "        -- Value 1: typical angina\n",
            "        -- Value 2: atypical angina\n",
            "        -- Value 3: non-anginal pain\n",
            "        -- Value 4: asymptomatic\n",
            "     10 trestbps: resting blood pressure (in mm Hg on admission to the \n",
            "        hospital)\n",
            "     11 htn\n",
            "     12 chol: serum cholestoral in mg/dl\n",
            "     13 smoke: I believe this is 1 = yes; 0 = no (is or is not a smoker)\n",
            "     14 cigs (cigarettes per day)\n",
            "     15 years (number of years as a smoker)\n",
            "     16 fbs: (fasting blood sugar > 120 mg/dl)  (1 = true; 0 = false)\n",
            "     17 dm (1 = history of diabetes; 0 = no such history)\n",
            "     18 famhist: family history of coronary artery disease (1 = yes; 0 = no)\n",
            "     19 restecg: resting electrocardiographic results\n",
            "        -- Value 0: normal\n",
            "        -- Value 1: having ST-T wave abnormality (T wave inversions and/or ST \n",
            "                    elevation or depression of > 0.05 mV)\n",
            "        -- Value 2: showing probable or definite left ventricular hypertrophy\n",
            "                    by Estes' criteria\n",
            "     20 ekgmo (month of exercise ECG reading)\n",
            "     21 ekgday(day of exercise ECG reading)\n",
            "     22 ekgyr (year of exercise ECG reading)\n",
            "     23 dig (digitalis used furing exercise ECG: 1 = yes; 0 = no)\n",
            "     24 prop (Beta blocker used during exercise ECG: 1 = yes; 0 = no)\n",
            "     25 nitr (nitrates used during exercise ECG: 1 = yes; 0 = no)\n",
            "     26 pro (calcium channel blocker used during exercise ECG: 1 = yes; 0 = no)\n",
            "     27 diuretic (diuretic used used during exercise ECG: 1 = yes; 0 = no)\n",
            "     28 proto: exercise protocol\n",
            "          1 = Bruce     \n",
            "          2 = Kottus\n",
            "          3 = McHenry\n",
            "          4 = fast Balke\n",
            "          5 = Balke\n",
            "          6 = Noughton \n",
            "          7 = bike 150 kpa min/min  (Not sure if \"kpa min/min\" is what was \n",
            "              written!)\n",
            "          8 = bike 125 kpa min/min  \n",
            "          9 = bike 100 kpa min/min\n",
            "         10 = bike 75 kpa min/min\n",
            "         11 = bike 50 kpa min/min\n",
            "         12 = arm ergometer\n",
            "     29 thaldur: duration of exercise test in minutes\n",
            "     30 thaltime: time when ST measure depression was noted\n",
            "     31 met: mets achieved\n",
            "     32 thalach: maximum heart rate achieved\n",
            "     33 thalrest: resting heart rate\n",
            "     34 tpeakbps: peak exercise blood pressure (first of 2 parts)\n",
            "     35 tpeakbpd: peak exercise blood pressure (second of 2 parts)\n",
            "     36 dummy\n",
            "     37 trestbpd: resting blood pressure\n",
            "     38 exang: exercise induced angina (1 = yes; 0 = no)\n",
            "     39 xhypo: (1 = yes; 0 = no)\n",
            "     40 oldpeak = ST depression induced by exercise relative to rest\n",
            "     41 slope: the slope of the peak exercise ST segment\n",
            "        -- Value 1: upsloping\n",
            "        -- Value 2: flat\n",
            "        -- Value 3: downsloping\n",
            "     42 rldv5: height at rest\n",
            "     43 rldv5e: height at peak exercise\n",
            "     44 ca: number of major vessels (0-3) colored by flourosopy\n",
            "     45 restckm: irrelevant\n",
            "     46 exerckm: irrelevant\n",
            "     47 restef: rest raidonuclid (sp?) ejection fraction\n",
            "     48 restwm: rest wall (sp?) motion abnormality\n",
            "        0 = none\n",
            "        1 = mild or moderate\n",
            "        2 = moderate or severe\n",
            "        3 = akinesis or dyskmem (sp?)\n",
            "     49 exeref: exercise radinalid (sp?) ejection fraction\n",
            "     50 exerwm: exercise wall (sp?) motion \n",
            "     51 thal: 3 = normal; 6 = fixed defect; 7 = reversable defect\n",
            "     52 thalsev: not used\n",
            "     53 thalpul: not used\n",
            "     54 earlobe: not used\n",
            "     55 cmo: month of cardiac cath (sp?)  (perhaps \"call\")\n",
            "     56 cday: day of cardiac cath (sp?)\n",
            "     57 cyr: year of cardiac cath (sp?)\n",
            "     58 num: diagnosis of heart disease (angiographic disease status)\n",
            "        -- Value 0: < 50% diameter narrowing\n",
            "        -- Value 1: > 50% diameter narrowing\n",
            "        (in any major vessel: attributes 59 through 68 are vessels)\n",
            "     59 lmt\n",
            "     60 ladprox\n",
            "     61 laddist\n",
            "     62 diag\n",
            "     63 cxmain\n",
            "     64 ramus\n",
            "     65 om1\n",
            "     66 om2\n",
            "     67 rcaprox\n",
            "     68 rcadist\n",
            "     69 lvx1: not used\n",
            "     70 lvx2: not used\n",
            "     71 lvx3: not used\n",
            "     72 lvx4: not used\n",
            "     73 lvf: not used\n",
            "     74 cathef: not used\n",
            "     75 junk: not used\n",
            "     76 name: last name of patient \n",
            "\t(I replaced this with the dummy string \"name\")\n",
            "\n",
            "9. Missing Attribute Values: Several.  Distinguished with value -9.0.\n",
            "\n",
            "10. Class Distribution:\n",
            "        Database:      0   1   2   3   4 Total\n",
            "          Cleveland: 164  55  36  35  13   303\n",
            "          Hungarian: 188  37  26  28  15   294\n",
            "        Switzerland:   8  48  32  30   5   123\n",
            "      Long Beach VA:  51  56  41  42  10   200\n",
            "\n"
          ],
          "name": "stdout"
        }
      ]
    },
    {
      "cell_type": "markdown",
      "metadata": {
        "id": "xlwEHgVzWWZx"
      },
      "source": [
        "1. age - age in years\n",
        "2. sex - sex (1 = male; 0 = female)\n",
        "3. cp - chest pain type (1 = typical angina; 2 = atypical angina; 3 = non-anginal pain; 4 = asymptomatic)\n",
        "4. trestbps - resting blood pressure (in mm Hg on admission to the hospital)\n",
        "5. chol - serum cholestoral in mg/dl\n",
        "6. fbs - fasting blood sugar > 120 mg/dl (1 = true; 0 = false)\n",
        "7. restecg - resting electrocardiographic results (0 = normal; 1 = having ST-T\n",
        "8. thalach - maximum heart rate achieved\n",
        "9. exang - exercise induced angina (1 = yes; 0 = no)\n",
        "10. oldpeak - ST depression induced by exercise relative to rest\n",
        "11. slope - the slope of the peak exercise ST segment (1 = upsloping; 2 = flat; 3 = downsloping)\n",
        "12. ca - number of major vessels (0-3) colored by flourosopy\n",
        "13. thal - 3 = normal; 6 = fixed defect; 7 = reversable defect\n",
        "14. target - the predicted attribute - diagnosis of heart disease (angiographic disease status) (Value 0 = < 50% diameter narrowing; Value 1 = > 50% "
      ]
    },
    {
      "cell_type": "code",
      "metadata": {
        "id": "_aATaCijdZsm",
        "colab": {
          "base_uri": "https://localhost:8080/"
        },
        "outputId": "0a111307-7cf9-4166-8c92-c868c6d6ffc5"
      },
      "source": [
        "# The cleveland sample of dataset preview\n",
        "cleveland.sample(n=5)"
      ],
      "execution_count": null,
      "outputs": [
        {
          "output_type": "execute_result",
          "data": {
            "text/html": [
              "<div>\n",
              "<style scoped>\n",
              "    .dataframe tbody tr th:only-of-type {\n",
              "        vertical-align: middle;\n",
              "    }\n",
              "\n",
              "    .dataframe tbody tr th {\n",
              "        vertical-align: top;\n",
              "    }\n",
              "\n",
              "    .dataframe thead th {\n",
              "        text-align: right;\n",
              "    }\n",
              "</style>\n",
              "<table border=\"1\" class=\"dataframe\">\n",
              "  <thead>\n",
              "    <tr style=\"text-align: right;\">\n",
              "      <th></th>\n",
              "      <th>age</th>\n",
              "      <th>sex</th>\n",
              "      <th>cp</th>\n",
              "      <th>trestbps</th>\n",
              "      <th>chol</th>\n",
              "      <th>fbs</th>\n",
              "      <th>restecg</th>\n",
              "      <th>thalach</th>\n",
              "      <th>exang</th>\n",
              "      <th>oldpeak</th>\n",
              "      <th>slope</th>\n",
              "      <th>ca</th>\n",
              "      <th>thal</th>\n",
              "      <th>target</th>\n",
              "    </tr>\n",
              "  </thead>\n",
              "  <tbody>\n",
              "    <tr>\n",
              "      <th>25</th>\n",
              "      <td>50.0</td>\n",
              "      <td>0.0</td>\n",
              "      <td>3.0</td>\n",
              "      <td>120.0</td>\n",
              "      <td>219.0</td>\n",
              "      <td>0.0</td>\n",
              "      <td>0.0</td>\n",
              "      <td>158.0</td>\n",
              "      <td>0.0</td>\n",
              "      <td>1.6</td>\n",
              "      <td>2.0</td>\n",
              "      <td>0.0</td>\n",
              "      <td>3.0</td>\n",
              "      <td>0</td>\n",
              "    </tr>\n",
              "    <tr>\n",
              "      <th>229</th>\n",
              "      <td>66.0</td>\n",
              "      <td>1.0</td>\n",
              "      <td>4.0</td>\n",
              "      <td>112.0</td>\n",
              "      <td>212.0</td>\n",
              "      <td>0.0</td>\n",
              "      <td>2.0</td>\n",
              "      <td>132.0</td>\n",
              "      <td>1.0</td>\n",
              "      <td>0.1</td>\n",
              "      <td>1.0</td>\n",
              "      <td>1.0</td>\n",
              "      <td>3.0</td>\n",
              "      <td>2</td>\n",
              "    </tr>\n",
              "    <tr>\n",
              "      <th>66</th>\n",
              "      <td>60.0</td>\n",
              "      <td>1.0</td>\n",
              "      <td>3.0</td>\n",
              "      <td>140.0</td>\n",
              "      <td>185.0</td>\n",
              "      <td>0.0</td>\n",
              "      <td>2.0</td>\n",
              "      <td>155.0</td>\n",
              "      <td>0.0</td>\n",
              "      <td>3.0</td>\n",
              "      <td>2.0</td>\n",
              "      <td>0.0</td>\n",
              "      <td>3.0</td>\n",
              "      <td>1</td>\n",
              "    </tr>\n",
              "    <tr>\n",
              "      <th>226</th>\n",
              "      <td>47.0</td>\n",
              "      <td>1.0</td>\n",
              "      <td>4.0</td>\n",
              "      <td>112.0</td>\n",
              "      <td>204.0</td>\n",
              "      <td>0.0</td>\n",
              "      <td>0.0</td>\n",
              "      <td>143.0</td>\n",
              "      <td>0.0</td>\n",
              "      <td>0.1</td>\n",
              "      <td>1.0</td>\n",
              "      <td>0.0</td>\n",
              "      <td>3.0</td>\n",
              "      <td>0</td>\n",
              "    </tr>\n",
              "    <tr>\n",
              "      <th>131</th>\n",
              "      <td>51.0</td>\n",
              "      <td>1.0</td>\n",
              "      <td>3.0</td>\n",
              "      <td>94.0</td>\n",
              "      <td>227.0</td>\n",
              "      <td>0.0</td>\n",
              "      <td>0.0</td>\n",
              "      <td>154.0</td>\n",
              "      <td>1.0</td>\n",
              "      <td>0.0</td>\n",
              "      <td>1.0</td>\n",
              "      <td>1.0</td>\n",
              "      <td>7.0</td>\n",
              "      <td>0</td>\n",
              "    </tr>\n",
              "  </tbody>\n",
              "</table>\n",
              "</div>"
            ],
            "text/plain": [
              "      age  sex   cp  trestbps   chol  ...  oldpeak  slope   ca  thal  target\n",
              "25   50.0  0.0  3.0     120.0  219.0  ...      1.6    2.0  0.0   3.0       0\n",
              "229  66.0  1.0  4.0     112.0  212.0  ...      0.1    1.0  1.0   3.0       2\n",
              "66   60.0  1.0  3.0     140.0  185.0  ...      3.0    2.0  0.0   3.0       1\n",
              "226  47.0  1.0  4.0     112.0  204.0  ...      0.1    1.0  0.0   3.0       0\n",
              "131  51.0  1.0  3.0      94.0  227.0  ...      0.0    1.0  1.0   7.0       0\n",
              "\n",
              "[5 rows x 14 columns]"
            ]
          },
          "metadata": {
            "tags": []
          },
          "execution_count": 4
        }
      ]
    },
    {
      "cell_type": "code",
      "metadata": {
        "id": "cQt3XcKXdqfY",
        "colab": {
          "base_uri": "https://localhost:8080/"
        },
        "outputId": "90014c5c-68b4-4cd0-ee59-a30fb13ad224"
      },
      "source": [
        "# Previewing the head of the our dataset\n",
        "cleveland.head()"
      ],
      "execution_count": null,
      "outputs": [
        {
          "output_type": "execute_result",
          "data": {
            "text/html": [
              "<div>\n",
              "<style scoped>\n",
              "    .dataframe tbody tr th:only-of-type {\n",
              "        vertical-align: middle;\n",
              "    }\n",
              "\n",
              "    .dataframe tbody tr th {\n",
              "        vertical-align: top;\n",
              "    }\n",
              "\n",
              "    .dataframe thead th {\n",
              "        text-align: right;\n",
              "    }\n",
              "</style>\n",
              "<table border=\"1\" class=\"dataframe\">\n",
              "  <thead>\n",
              "    <tr style=\"text-align: right;\">\n",
              "      <th></th>\n",
              "      <th>age</th>\n",
              "      <th>sex</th>\n",
              "      <th>cp</th>\n",
              "      <th>trestbps</th>\n",
              "      <th>chol</th>\n",
              "      <th>fbs</th>\n",
              "      <th>restecg</th>\n",
              "      <th>thalach</th>\n",
              "      <th>exang</th>\n",
              "      <th>oldpeak</th>\n",
              "      <th>slope</th>\n",
              "      <th>ca</th>\n",
              "      <th>thal</th>\n",
              "      <th>target</th>\n",
              "    </tr>\n",
              "  </thead>\n",
              "  <tbody>\n",
              "    <tr>\n",
              "      <th>0</th>\n",
              "      <td>63.0</td>\n",
              "      <td>1.0</td>\n",
              "      <td>1.0</td>\n",
              "      <td>145.0</td>\n",
              "      <td>233.0</td>\n",
              "      <td>1.0</td>\n",
              "      <td>2.0</td>\n",
              "      <td>150.0</td>\n",
              "      <td>0.0</td>\n",
              "      <td>2.3</td>\n",
              "      <td>3.0</td>\n",
              "      <td>0.0</td>\n",
              "      <td>6.0</td>\n",
              "      <td>0</td>\n",
              "    </tr>\n",
              "    <tr>\n",
              "      <th>1</th>\n",
              "      <td>67.0</td>\n",
              "      <td>1.0</td>\n",
              "      <td>4.0</td>\n",
              "      <td>160.0</td>\n",
              "      <td>286.0</td>\n",
              "      <td>0.0</td>\n",
              "      <td>2.0</td>\n",
              "      <td>108.0</td>\n",
              "      <td>1.0</td>\n",
              "      <td>1.5</td>\n",
              "      <td>2.0</td>\n",
              "      <td>3.0</td>\n",
              "      <td>3.0</td>\n",
              "      <td>2</td>\n",
              "    </tr>\n",
              "    <tr>\n",
              "      <th>2</th>\n",
              "      <td>67.0</td>\n",
              "      <td>1.0</td>\n",
              "      <td>4.0</td>\n",
              "      <td>120.0</td>\n",
              "      <td>229.0</td>\n",
              "      <td>0.0</td>\n",
              "      <td>2.0</td>\n",
              "      <td>129.0</td>\n",
              "      <td>1.0</td>\n",
              "      <td>2.6</td>\n",
              "      <td>2.0</td>\n",
              "      <td>2.0</td>\n",
              "      <td>7.0</td>\n",
              "      <td>1</td>\n",
              "    </tr>\n",
              "    <tr>\n",
              "      <th>3</th>\n",
              "      <td>37.0</td>\n",
              "      <td>1.0</td>\n",
              "      <td>3.0</td>\n",
              "      <td>130.0</td>\n",
              "      <td>250.0</td>\n",
              "      <td>0.0</td>\n",
              "      <td>0.0</td>\n",
              "      <td>187.0</td>\n",
              "      <td>0.0</td>\n",
              "      <td>3.5</td>\n",
              "      <td>3.0</td>\n",
              "      <td>0.0</td>\n",
              "      <td>3.0</td>\n",
              "      <td>0</td>\n",
              "    </tr>\n",
              "    <tr>\n",
              "      <th>4</th>\n",
              "      <td>41.0</td>\n",
              "      <td>0.0</td>\n",
              "      <td>2.0</td>\n",
              "      <td>130.0</td>\n",
              "      <td>204.0</td>\n",
              "      <td>0.0</td>\n",
              "      <td>2.0</td>\n",
              "      <td>172.0</td>\n",
              "      <td>0.0</td>\n",
              "      <td>1.4</td>\n",
              "      <td>1.0</td>\n",
              "      <td>0.0</td>\n",
              "      <td>3.0</td>\n",
              "      <td>0</td>\n",
              "    </tr>\n",
              "  </tbody>\n",
              "</table>\n",
              "</div>"
            ],
            "text/plain": [
              "    age  sex   cp  trestbps   chol  ...  oldpeak  slope   ca  thal  target\n",
              "0  63.0  1.0  1.0     145.0  233.0  ...      2.3    3.0  0.0   6.0       0\n",
              "1  67.0  1.0  4.0     160.0  286.0  ...      1.5    2.0  3.0   3.0       2\n",
              "2  67.0  1.0  4.0     120.0  229.0  ...      2.6    2.0  2.0   7.0       1\n",
              "3  37.0  1.0  3.0     130.0  250.0  ...      3.5    3.0  0.0   3.0       0\n",
              "4  41.0  0.0  2.0     130.0  204.0  ...      1.4    1.0  0.0   3.0       0\n",
              "\n",
              "[5 rows x 14 columns]"
            ]
          },
          "metadata": {
            "tags": []
          },
          "execution_count": 5
        }
      ]
    },
    {
      "cell_type": "code",
      "metadata": {
        "id": "KA2WuezVWyXW",
        "colab": {
          "base_uri": "https://localhost:8080/"
        },
        "outputId": "d3f1b53a-34e3-4965-f7af-5d6f8ad81519"
      },
      "source": [
        "# Previewing the tail of our dataset\n",
        "cleveland.tail()"
      ],
      "execution_count": null,
      "outputs": [
        {
          "output_type": "execute_result",
          "data": {
            "text/html": [
              "<div>\n",
              "<style scoped>\n",
              "    .dataframe tbody tr th:only-of-type {\n",
              "        vertical-align: middle;\n",
              "    }\n",
              "\n",
              "    .dataframe tbody tr th {\n",
              "        vertical-align: top;\n",
              "    }\n",
              "\n",
              "    .dataframe thead th {\n",
              "        text-align: right;\n",
              "    }\n",
              "</style>\n",
              "<table border=\"1\" class=\"dataframe\">\n",
              "  <thead>\n",
              "    <tr style=\"text-align: right;\">\n",
              "      <th></th>\n",
              "      <th>age</th>\n",
              "      <th>sex</th>\n",
              "      <th>cp</th>\n",
              "      <th>trestbps</th>\n",
              "      <th>chol</th>\n",
              "      <th>fbs</th>\n",
              "      <th>restecg</th>\n",
              "      <th>thalach</th>\n",
              "      <th>exang</th>\n",
              "      <th>oldpeak</th>\n",
              "      <th>slope</th>\n",
              "      <th>ca</th>\n",
              "      <th>thal</th>\n",
              "      <th>target</th>\n",
              "    </tr>\n",
              "  </thead>\n",
              "  <tbody>\n",
              "    <tr>\n",
              "      <th>298</th>\n",
              "      <td>45.0</td>\n",
              "      <td>1.0</td>\n",
              "      <td>1.0</td>\n",
              "      <td>110.0</td>\n",
              "      <td>264.0</td>\n",
              "      <td>0.0</td>\n",
              "      <td>0.0</td>\n",
              "      <td>132.0</td>\n",
              "      <td>0.0</td>\n",
              "      <td>1.2</td>\n",
              "      <td>2.0</td>\n",
              "      <td>0.0</td>\n",
              "      <td>7.0</td>\n",
              "      <td>1</td>\n",
              "    </tr>\n",
              "    <tr>\n",
              "      <th>299</th>\n",
              "      <td>68.0</td>\n",
              "      <td>1.0</td>\n",
              "      <td>4.0</td>\n",
              "      <td>144.0</td>\n",
              "      <td>193.0</td>\n",
              "      <td>1.0</td>\n",
              "      <td>0.0</td>\n",
              "      <td>141.0</td>\n",
              "      <td>0.0</td>\n",
              "      <td>3.4</td>\n",
              "      <td>2.0</td>\n",
              "      <td>2.0</td>\n",
              "      <td>7.0</td>\n",
              "      <td>2</td>\n",
              "    </tr>\n",
              "    <tr>\n",
              "      <th>300</th>\n",
              "      <td>57.0</td>\n",
              "      <td>1.0</td>\n",
              "      <td>4.0</td>\n",
              "      <td>130.0</td>\n",
              "      <td>131.0</td>\n",
              "      <td>0.0</td>\n",
              "      <td>0.0</td>\n",
              "      <td>115.0</td>\n",
              "      <td>1.0</td>\n",
              "      <td>1.2</td>\n",
              "      <td>2.0</td>\n",
              "      <td>1.0</td>\n",
              "      <td>7.0</td>\n",
              "      <td>3</td>\n",
              "    </tr>\n",
              "    <tr>\n",
              "      <th>301</th>\n",
              "      <td>57.0</td>\n",
              "      <td>0.0</td>\n",
              "      <td>2.0</td>\n",
              "      <td>130.0</td>\n",
              "      <td>236.0</td>\n",
              "      <td>0.0</td>\n",
              "      <td>2.0</td>\n",
              "      <td>174.0</td>\n",
              "      <td>0.0</td>\n",
              "      <td>0.0</td>\n",
              "      <td>2.0</td>\n",
              "      <td>1.0</td>\n",
              "      <td>3.0</td>\n",
              "      <td>1</td>\n",
              "    </tr>\n",
              "    <tr>\n",
              "      <th>302</th>\n",
              "      <td>38.0</td>\n",
              "      <td>1.0</td>\n",
              "      <td>3.0</td>\n",
              "      <td>138.0</td>\n",
              "      <td>175.0</td>\n",
              "      <td>0.0</td>\n",
              "      <td>0.0</td>\n",
              "      <td>173.0</td>\n",
              "      <td>0.0</td>\n",
              "      <td>0.0</td>\n",
              "      <td>1.0</td>\n",
              "      <td>NaN</td>\n",
              "      <td>3.0</td>\n",
              "      <td>0</td>\n",
              "    </tr>\n",
              "  </tbody>\n",
              "</table>\n",
              "</div>"
            ],
            "text/plain": [
              "      age  sex   cp  trestbps   chol  ...  oldpeak  slope   ca  thal  target\n",
              "298  45.0  1.0  1.0     110.0  264.0  ...      1.2    2.0  0.0   7.0       1\n",
              "299  68.0  1.0  4.0     144.0  193.0  ...      3.4    2.0  2.0   7.0       2\n",
              "300  57.0  1.0  4.0     130.0  131.0  ...      1.2    2.0  1.0   7.0       3\n",
              "301  57.0  0.0  2.0     130.0  236.0  ...      0.0    2.0  1.0   3.0       1\n",
              "302  38.0  1.0  3.0     138.0  175.0  ...      0.0    1.0  NaN   3.0       0\n",
              "\n",
              "[5 rows x 14 columns]"
            ]
          },
          "metadata": {
            "tags": []
          },
          "execution_count": 6
        }
      ]
    },
    {
      "cell_type": "code",
      "metadata": {
        "id": "I6jXxJ9NHFtX",
        "colab": {
          "base_uri": "https://localhost:8080/"
        },
        "outputId": "38f1d09e-d2c4-437c-acfd-bd577ee46d23"
      },
      "source": [
        "cleveland.info()"
      ],
      "execution_count": null,
      "outputs": [
        {
          "output_type": "stream",
          "text": [
            "<class 'pandas.core.frame.DataFrame'>\n",
            "RangeIndex: 303 entries, 0 to 302\n",
            "Data columns (total 14 columns):\n",
            " #   Column    Non-Null Count  Dtype  \n",
            "---  ------    --------------  -----  \n",
            " 0   age       303 non-null    float64\n",
            " 1   sex       303 non-null    float64\n",
            " 2   cp        303 non-null    float64\n",
            " 3   trestbps  303 non-null    float64\n",
            " 4   chol      303 non-null    float64\n",
            " 5   fbs       303 non-null    float64\n",
            " 6   restecg   303 non-null    float64\n",
            " 7   thalach   303 non-null    float64\n",
            " 8   exang     303 non-null    float64\n",
            " 9   oldpeak   303 non-null    float64\n",
            " 10  slope     303 non-null    float64\n",
            " 11  ca        299 non-null    float64\n",
            " 12  thal      301 non-null    float64\n",
            " 13  target    303 non-null    int64  \n",
            "dtypes: float64(13), int64(1)\n",
            "memory usage: 33.3 KB\n"
          ],
          "name": "stdout"
        }
      ]
    },
    {
      "cell_type": "markdown",
      "metadata": {
        "id": "yM--CvlSe8CX"
      },
      "source": [
        "## Data Cleaning"
      ]
    },
    {
      "cell_type": "code",
      "metadata": {
        "id": "_J9B80CdeV5I",
        "colab": {
          "base_uri": "https://localhost:8080/"
        },
        "outputId": "0ffcb0da-5bff-4dfd-a13a-d3bb2008fa39"
      },
      "source": [
        "# Determining the number of records\n",
        "print(\"cleveland shape:\", cleveland.shape)\n"
      ],
      "execution_count": null,
      "outputs": [
        {
          "output_type": "stream",
          "text": [
            "cleveland shape: (303, 14)\n"
          ],
          "name": "stdout"
        }
      ]
    },
    {
      "cell_type": "code",
      "metadata": {
        "id": "Z5NoeJnnejWU",
        "colab": {
          "base_uri": "https://localhost:8080/"
        },
        "outputId": "99f74004-6f92-4504-a345-4a8853e16b7c"
      },
      "source": [
        "# Checking the info of each dataset\n",
        "cleveland.info()"
      ],
      "execution_count": null,
      "outputs": [
        {
          "output_type": "stream",
          "text": [
            "<class 'pandas.core.frame.DataFrame'>\n",
            "RangeIndex: 303 entries, 0 to 302\n",
            "Data columns (total 14 columns):\n",
            " #   Column    Non-Null Count  Dtype  \n",
            "---  ------    --------------  -----  \n",
            " 0   age       303 non-null    float64\n",
            " 1   sex       303 non-null    float64\n",
            " 2   cp        303 non-null    float64\n",
            " 3   trestbps  303 non-null    float64\n",
            " 4   chol      303 non-null    float64\n",
            " 5   fbs       303 non-null    float64\n",
            " 6   restecg   303 non-null    float64\n",
            " 7   thalach   303 non-null    float64\n",
            " 8   exang     303 non-null    float64\n",
            " 9   oldpeak   303 non-null    float64\n",
            " 10  slope     303 non-null    float64\n",
            " 11  ca        299 non-null    float64\n",
            " 12  thal      301 non-null    float64\n",
            " 13  target    303 non-null    int64  \n",
            "dtypes: float64(13), int64(1)\n",
            "memory usage: 33.3 KB\n"
          ],
          "name": "stdout"
        }
      ]
    },
    {
      "cell_type": "code",
      "metadata": {
        "id": "lEc0DJJte1dD",
        "colab": {
          "base_uri": "https://localhost:8080/"
        },
        "outputId": "ba705987-79d9-4757-e499-939c16fc2eb3"
      },
      "source": [
        "#checking for duplicates of the cleveland\n",
        "cleveland.duplicated().any()"
      ],
      "execution_count": null,
      "outputs": [
        {
          "output_type": "execute_result",
          "data": {
            "text/plain": [
              "False"
            ]
          },
          "metadata": {
            "tags": []
          },
          "execution_count": 10
        }
      ]
    },
    {
      "cell_type": "markdown",
      "metadata": {
        "id": "veTHAkORfVy7"
      },
      "source": [
        "* No duplicates cleveland dataset"
      ]
    },
    {
      "cell_type": "code",
      "metadata": {
        "id": "tT1yAx8UfafX",
        "colab": {
          "base_uri": "https://localhost:8080/"
        },
        "outputId": "97c1cc40-0465-448f-c46e-ba1aa9d7d422"
      },
      "source": [
        "# Checking for missing values in the cleveland dataset\n",
        "cleveland.isnull().sum()"
      ],
      "execution_count": null,
      "outputs": [
        {
          "output_type": "execute_result",
          "data": {
            "text/plain": [
              "age         0\n",
              "sex         0\n",
              "cp          0\n",
              "trestbps    0\n",
              "chol        0\n",
              "fbs         0\n",
              "restecg     0\n",
              "thalach     0\n",
              "exang       0\n",
              "oldpeak     0\n",
              "slope       0\n",
              "ca          4\n",
              "thal        2\n",
              "target      0\n",
              "dtype: int64"
            ]
          },
          "metadata": {
            "tags": []
          },
          "execution_count": 11
        }
      ]
    },
    {
      "cell_type": "markdown",
      "metadata": {
        "id": "JlsrX3W4fqaR"
      },
      "source": [
        "* There are 6 missing values in the cleveland datasets"
      ]
    },
    {
      "cell_type": "code",
      "metadata": {
        "id": "3lwPUrgVc3KZ",
        "colab": {
          "base_uri": "https://localhost:8080/"
        },
        "outputId": "e9abb474-f0c1-4e4e-cf4b-128bbb58d224"
      },
      "source": [
        "# Dropping the missing values\n",
        "cleveland = cleveland.dropna()\n",
        "print(cleveland.isnull().sum())"
      ],
      "execution_count": null,
      "outputs": [
        {
          "output_type": "stream",
          "text": [
            "age         0\n",
            "sex         0\n",
            "cp          0\n",
            "trestbps    0\n",
            "chol        0\n",
            "fbs         0\n",
            "restecg     0\n",
            "thalach     0\n",
            "exang       0\n",
            "oldpeak     0\n",
            "slope       0\n",
            "ca          0\n",
            "thal        0\n",
            "target      0\n",
            "dtype: int64\n"
          ],
          "name": "stdout"
        }
      ]
    },
    {
      "cell_type": "code",
      "metadata": {
        "id": "LisB1bIzN555"
      },
      "source": [
        "cleveland[['age', 'sex', 'cp', 'trestbps', 'chol', 'fbs', 'restecg', 'thalach', 'exang', 'slope', 'ca', 'thal', 'target']] = cleveland[['age', 'sex', 'cp', 'trestbps', 'chol', 'fbs', 'restecg', 'thalach', 'exang', 'slope', 'ca', 'thal', 'target']].astype(int)"
      ],
      "execution_count": null,
      "outputs": []
    },
    {
      "cell_type": "code",
      "metadata": {
        "id": "3CJ82KqzO1iW",
        "colab": {
          "base_uri": "https://localhost:8080/"
        },
        "outputId": "b7f3b594-4d81-4890-c888-c121219f7664"
      },
      "source": [
        "cleveland.info()"
      ],
      "execution_count": null,
      "outputs": [
        {
          "output_type": "stream",
          "text": [
            "<class 'pandas.core.frame.DataFrame'>\n",
            "Int64Index: 297 entries, 0 to 301\n",
            "Data columns (total 14 columns):\n",
            " #   Column    Non-Null Count  Dtype  \n",
            "---  ------    --------------  -----  \n",
            " 0   age       297 non-null    int64  \n",
            " 1   sex       297 non-null    int64  \n",
            " 2   cp        297 non-null    int64  \n",
            " 3   trestbps  297 non-null    int64  \n",
            " 4   chol      297 non-null    int64  \n",
            " 5   fbs       297 non-null    int64  \n",
            " 6   restecg   297 non-null    int64  \n",
            " 7   thalach   297 non-null    int64  \n",
            " 8   exang     297 non-null    int64  \n",
            " 9   oldpeak   297 non-null    float64\n",
            " 10  slope     297 non-null    int64  \n",
            " 11  ca        297 non-null    int64  \n",
            " 12  thal      297 non-null    int64  \n",
            " 13  target    297 non-null    int64  \n",
            "dtypes: float64(1), int64(13)\n",
            "memory usage: 34.8 KB\n"
          ],
          "name": "stdout"
        }
      ]
    },
    {
      "cell_type": "code",
      "metadata": {
        "id": "56Eb4LKgPHMi",
        "colab": {
          "base_uri": "https://localhost:8080/"
        },
        "outputId": "9f29473d-38fa-4e15-dedd-5e212342702a"
      },
      "source": [
        "# transform data to numeric to enable further analysis\n",
        "cleveland = cleveland.apply(pd.to_numeric)\n",
        "cleveland.dtypes"
      ],
      "execution_count": null,
      "outputs": [
        {
          "output_type": "execute_result",
          "data": {
            "text/plain": [
              "age           int64\n",
              "sex           int64\n",
              "cp            int64\n",
              "trestbps      int64\n",
              "chol          int64\n",
              "fbs           int64\n",
              "restecg       int64\n",
              "thalach       int64\n",
              "exang         int64\n",
              "oldpeak     float64\n",
              "slope         int64\n",
              "ca            int64\n",
              "thal          int64\n",
              "target        int64\n",
              "dtype: object"
            ]
          },
          "metadata": {
            "tags": []
          },
          "execution_count": 15
        }
      ]
    },
    {
      "cell_type": "code",
      "metadata": {
        "id": "GZdhSSXbfu50",
        "colab": {
          "base_uri": "https://localhost:8080/"
        },
        "outputId": "7231417e-0509-4932-efab-b4fa12579697"
      },
      "source": [
        "# Checking for outliers\n",
        "\n",
        "Q1 = cleveland.quantile(0.25)\n",
        "Q3 = cleveland.quantile(0.75)\n",
        "IQR = Q3 - Q1\n",
        "print(IQR)"
      ],
      "execution_count": null,
      "outputs": [
        {
          "output_type": "stream",
          "text": [
            "age         13.0\n",
            "sex          1.0\n",
            "cp           1.0\n",
            "trestbps    20.0\n",
            "chol        65.0\n",
            "fbs          0.0\n",
            "restecg      2.0\n",
            "thalach     33.0\n",
            "exang        1.0\n",
            "oldpeak      1.6\n",
            "slope        1.0\n",
            "ca           1.0\n",
            "thal         4.0\n",
            "target       2.0\n",
            "dtype: float64\n"
          ],
          "name": "stdout"
        }
      ]
    },
    {
      "cell_type": "code",
      "metadata": {
        "id": "cFaBdFMJXh6_",
        "colab": {
          "base_uri": "https://localhost:8080/"
        },
        "outputId": "55a81db8-36c5-404f-811f-9da01514e84a"
      },
      "source": [
        "# Graphically showing the Outliers,\n",
        "cleveland.boxplot(figsize=(15,10))\n",
        "plt.show()"
      ],
      "execution_count": null,
      "outputs": [
        {
          "output_type": "display_data",
          "data": {
            "image/png": "[encoded data removed]",
            "text/plain": [
              "<Figure size 1080x720 with 1 Axes>"
            ]
          },
          "metadata": {
            "tags": [],
            "needs_background": "light"
          }
        }
      ]
    },
    {
      "cell_type": "code",
      "metadata": {
        "id": "MGLTw2j5g3YM",
        "colab": {
          "base_uri": "https://localhost:8080/"
        },
        "outputId": "a7c5f902-3d40-4a39-9054-96c65864a1f7"
      },
      "source": [
        "# eliminating outliers\n",
        "df1_out = cleveland[~((cleveland < (Q1 - 1.5 * IQR)) |(cleveland > (Q3 + 1.5 * IQR))).any(axis=1)]\n",
        "df1_out.shape\n",
        "\n",
        "# Since we're losing most of the data after dropping the outliers we shall use the data with the outliers present\n",
        "# around 75 lost attributes we don't drop outliers"
      ],
      "execution_count": null,
      "outputs": [
        {
          "output_type": "execute_result",
          "data": {
            "text/plain": [
              "(212, 14)"
            ]
          },
          "metadata": {
            "tags": []
          },
          "execution_count": 18
        }
      ]
    },
    {
      "cell_type": "markdown",
      "metadata": {
        "id": "KkwaWp3dhG6a"
      },
      "source": [
        "# EDA"
      ]
    },
    {
      "cell_type": "markdown",
      "metadata": {
        "id": "lMqawqB8hMt7"
      },
      "source": [
        "* Univariate EDA"
      ]
    },
    {
      "cell_type": "code",
      "metadata": {
        "id": "OkgzVAfWhMIp",
        "colab": {
          "base_uri": "https://localhost:8080/"
        },
        "outputId": "4860be10-5d4c-4ebc-bff0-b1d8ed4086fa"
      },
      "source": [
        "cleveland.describe()"
      ],
      "execution_count": null,
      "outputs": [
        {
          "output_type": "execute_result",
          "data": {
            "text/html": [
              "<div>\n",
              "<style scoped>\n",
              "    .dataframe tbody tr th:only-of-type {\n",
              "        vertical-align: middle;\n",
              "    }\n",
              "\n",
              "    .dataframe tbody tr th {\n",
              "        vertical-align: top;\n",
              "    }\n",
              "\n",
              "    .dataframe thead th {\n",
              "        text-align: right;\n",
              "    }\n",
              "</style>\n",
              "<table border=\"1\" class=\"dataframe\">\n",
              "  <thead>\n",
              "    <tr style=\"text-align: right;\">\n",
              "      <th></th>\n",
              "      <th>age</th>\n",
              "      <th>sex</th>\n",
              "      <th>cp</th>\n",
              "      <th>trestbps</th>\n",
              "      <th>chol</th>\n",
              "      <th>fbs</th>\n",
              "      <th>restecg</th>\n",
              "      <th>thalach</th>\n",
              "      <th>exang</th>\n",
              "      <th>oldpeak</th>\n",
              "      <th>slope</th>\n",
              "      <th>ca</th>\n",
              "      <th>thal</th>\n",
              "      <th>target</th>\n",
              "    </tr>\n",
              "  </thead>\n",
              "  <tbody>\n",
              "    <tr>\n",
              "      <th>count</th>\n",
              "      <td>297.000000</td>\n",
              "      <td>297.000000</td>\n",
              "      <td>297.000000</td>\n",
              "      <td>297.000000</td>\n",
              "      <td>297.000000</td>\n",
              "      <td>297.000000</td>\n",
              "      <td>297.000000</td>\n",
              "      <td>297.000000</td>\n",
              "      <td>297.000000</td>\n",
              "      <td>297.000000</td>\n",
              "      <td>297.000000</td>\n",
              "      <td>297.000000</td>\n",
              "      <td>297.000000</td>\n",
              "      <td>297.000000</td>\n",
              "    </tr>\n",
              "    <tr>\n",
              "      <th>mean</th>\n",
              "      <td>54.542088</td>\n",
              "      <td>0.676768</td>\n",
              "      <td>3.158249</td>\n",
              "      <td>131.693603</td>\n",
              "      <td>247.350168</td>\n",
              "      <td>0.144781</td>\n",
              "      <td>0.996633</td>\n",
              "      <td>149.599327</td>\n",
              "      <td>0.326599</td>\n",
              "      <td>1.055556</td>\n",
              "      <td>1.602694</td>\n",
              "      <td>0.676768</td>\n",
              "      <td>4.730640</td>\n",
              "      <td>0.946128</td>\n",
              "    </tr>\n",
              "    <tr>\n",
              "      <th>std</th>\n",
              "      <td>9.049736</td>\n",
              "      <td>0.468500</td>\n",
              "      <td>0.964859</td>\n",
              "      <td>17.762806</td>\n",
              "      <td>51.997583</td>\n",
              "      <td>0.352474</td>\n",
              "      <td>0.994914</td>\n",
              "      <td>22.941562</td>\n",
              "      <td>0.469761</td>\n",
              "      <td>1.166123</td>\n",
              "      <td>0.618187</td>\n",
              "      <td>0.938965</td>\n",
              "      <td>1.938629</td>\n",
              "      <td>1.234551</td>\n",
              "    </tr>\n",
              "    <tr>\n",
              "      <th>min</th>\n",
              "      <td>29.000000</td>\n",
              "      <td>0.000000</td>\n",
              "      <td>1.000000</td>\n",
              "      <td>94.000000</td>\n",
              "      <td>126.000000</td>\n",
              "      <td>0.000000</td>\n",
              "      <td>0.000000</td>\n",
              "      <td>71.000000</td>\n",
              "      <td>0.000000</td>\n",
              "      <td>0.000000</td>\n",
              "      <td>1.000000</td>\n",
              "      <td>0.000000</td>\n",
              "      <td>3.000000</td>\n",
              "      <td>0.000000</td>\n",
              "    </tr>\n",
              "    <tr>\n",
              "      <th>25%</th>\n",
              "      <td>48.000000</td>\n",
              "      <td>0.000000</td>\n",
              "      <td>3.000000</td>\n",
              "      <td>120.000000</td>\n",
              "      <td>211.000000</td>\n",
              "      <td>0.000000</td>\n",
              "      <td>0.000000</td>\n",
              "      <td>133.000000</td>\n",
              "      <td>0.000000</td>\n",
              "      <td>0.000000</td>\n",
              "      <td>1.000000</td>\n",
              "      <td>0.000000</td>\n",
              "      <td>3.000000</td>\n",
              "      <td>0.000000</td>\n",
              "    </tr>\n",
              "    <tr>\n",
              "      <th>50%</th>\n",
              "      <td>56.000000</td>\n",
              "      <td>1.000000</td>\n",
              "      <td>3.000000</td>\n",
              "      <td>130.000000</td>\n",
              "      <td>243.000000</td>\n",
              "      <td>0.000000</td>\n",
              "      <td>1.000000</td>\n",
              "      <td>153.000000</td>\n",
              "      <td>0.000000</td>\n",
              "      <td>0.800000</td>\n",
              "      <td>2.000000</td>\n",
              "      <td>0.000000</td>\n",
              "      <td>3.000000</td>\n",
              "      <td>0.000000</td>\n",
              "    </tr>\n",
              "    <tr>\n",
              "      <th>75%</th>\n",
              "      <td>61.000000</td>\n",
              "      <td>1.000000</td>\n",
              "      <td>4.000000</td>\n",
              "      <td>140.000000</td>\n",
              "      <td>276.000000</td>\n",
              "      <td>0.000000</td>\n",
              "      <td>2.000000</td>\n",
              "      <td>166.000000</td>\n",
              "      <td>1.000000</td>\n",
              "      <td>1.600000</td>\n",
              "      <td>2.000000</td>\n",
              "      <td>1.000000</td>\n",
              "      <td>7.000000</td>\n",
              "      <td>2.000000</td>\n",
              "    </tr>\n",
              "    <tr>\n",
              "      <th>max</th>\n",
              "      <td>77.000000</td>\n",
              "      <td>1.000000</td>\n",
              "      <td>4.000000</td>\n",
              "      <td>200.000000</td>\n",
              "      <td>564.000000</td>\n",
              "      <td>1.000000</td>\n",
              "      <td>2.000000</td>\n",
              "      <td>202.000000</td>\n",
              "      <td>1.000000</td>\n",
              "      <td>6.200000</td>\n",
              "      <td>3.000000</td>\n",
              "      <td>3.000000</td>\n",
              "      <td>7.000000</td>\n",
              "      <td>4.000000</td>\n",
              "    </tr>\n",
              "  </tbody>\n",
              "</table>\n",
              "</div>"
            ],
            "text/plain": [
              "              age         sex          cp  ...          ca        thal      target\n",
              "count  297.000000  297.000000  297.000000  ...  297.000000  297.000000  297.000000\n",
              "mean    54.542088    0.676768    3.158249  ...    0.676768    4.730640    0.946128\n",
              "std      9.049736    0.468500    0.964859  ...    0.938965    1.938629    1.234551\n",
              "min     29.000000    0.000000    1.000000  ...    0.000000    3.000000    0.000000\n",
              "25%     48.000000    0.000000    3.000000  ...    0.000000    3.000000    0.000000\n",
              "50%     56.000000    1.000000    3.000000  ...    0.000000    3.000000    0.000000\n",
              "75%     61.000000    1.000000    4.000000  ...    1.000000    7.000000    2.000000\n",
              "max     77.000000    1.000000    4.000000  ...    3.000000    7.000000    4.000000\n",
              "\n",
              "[8 rows x 14 columns]"
            ]
          },
          "metadata": {
            "tags": []
          },
          "execution_count": 19
        }
      ]
    },
    {
      "cell_type": "code",
      "metadata": {
        "id": "fkBZyaiwhuMK",
        "colab": {
          "base_uri": "https://localhost:8080/"
        },
        "outputId": "4e45efab-b98b-4b43-88b9-b3da521a7d8d"
      },
      "source": [
        "cleveland.skew()"
      ],
      "execution_count": null,
      "outputs": [
        {
          "output_type": "execute_result",
          "data": {
            "text/plain": [
              "age        -0.219775\n",
              "sex        -0.759727\n",
              "cp         -0.844412\n",
              "trestbps    0.700070\n",
              "chol        1.118096\n",
              "fbs         2.029240\n",
              "restecg     0.006768\n",
              "thalach    -0.536540\n",
              "exang       0.743256\n",
              "oldpeak     1.247131\n",
              "slope       0.510444\n",
              "ca          1.179548\n",
              "thal        0.247772\n",
              "target      1.046557\n",
              "dtype: float64"
            ]
          },
          "metadata": {
            "tags": []
          },
          "execution_count": 20
        }
      ]
    },
    {
      "cell_type": "markdown",
      "metadata": {
        "id": "NklWajeHiCVi"
      },
      "source": [
        "* For the cleveland dataset the following features are skewed to left: age, sex, cp, and thalach"
      ]
    },
    {
      "cell_type": "code",
      "metadata": {
        "id": "iL-HQ2Kd5HHQ",
        "colab": {
          "base_uri": "https://localhost:8080/"
        },
        "outputId": "a0d52bf1-b665-4819-8e85-d6ff44a717a7"
      },
      "source": [
        "# plot histograms for each variable\n",
        "cleveland.hist(figsize = (12, 12))\n",
        "plt.show()"
      ],
      "execution_count": null,
      "outputs": [
        {
          "output_type": "display_data",
          "data": {
            "image/png": "[encoded data removed]",
            "text/plain": [
              "<Figure size 864x864 with 16 Axes>"
            ]
          },
          "metadata": {
            "tags": [],
            "needs_background": "light"
          }
        }
      ]
    },
    {
      "cell_type": "code",
      "metadata": {
        "id": "dl586mcx5RNS",
        "colab": {
          "base_uri": "https://localhost:8080/"
        },
        "outputId": "cd57be7e-6cd6-4f66-a668-fa424c71086f"
      },
      "source": [
        "pd.crosstab(cleveland.age,cleveland.target).plot(kind=\"bar\",figsize=(20,6))\n",
        "plt.title('Heart Disease Frequency for Ages')\n",
        "plt.xlabel('Age')\n",
        "plt.ylabel('Frequency')\n",
        "plt.show()"
      ],
      "execution_count": null,
      "outputs": [
        {
          "output_type": "display_data",
          "data": {
            "image/png": "[encoded data removed]",
            "text/plain": [
              "<Figure size 1440x432 with 1 Axes>"
            ]
          },
          "metadata": {
            "tags": [],
            "needs_background": "light"
          }
        }
      ]
    },
    {
      "cell_type": "markdown",
      "metadata": {
        "id": "zgHliFPo-HEF"
      },
      "source": [
        "* Bivariate EDA"
      ]
    },
    {
      "cell_type": "code",
      "metadata": {
        "id": "k1SG_PPx7u8x",
        "colab": {
          "base_uri": "https://localhost:8080/"
        },
        "outputId": "f39f61cd-4088-4532-c9d5-869debc8f130"
      },
      "source": [
        "# Exploring the correlation between numerical variables\n",
        "import seaborn as sns\n",
        "\n",
        "plt.figure(figsize=(13,9))\n",
        "sns.heatmap(cleveland.corr(), annot=True, cbar=False, cmap='viridis', linewidth=1, fmt='.1f', square=True)\n",
        "plt.show()"
      ],
      "execution_count": null,
      "outputs": [
        {
          "output_type": "display_data",
          "data": {
            "image/png": "[encoded data removed]",
            "text/plain": [
              "<Figure size 936x648 with 1 Axes>"
            ]
          },
          "metadata": {
            "tags": [],
            "needs_background": "light"
          }
        }
      ]
    },
    {
      "cell_type": "code",
      "metadata": {
        "id": "bbpjjku28JQv",
        "colab": {
          "base_uri": "https://localhost:8080/"
        },
        "outputId": "813a380e-c89f-4d85-fd84-ed8ab3c227c3"
      },
      "source": [
        "# Showing attributes with a correlation >= 3\n",
        "\n",
        "plt.figure(figsize=(13,9))\n",
        "corr = cleveland.corr()\n",
        "sns.heatmap(corr[(corr >= 0.5) | (corr <= -0.4)], annot=True, cbar=False,\n",
        "                                 cmap='viridis', linewidth=1, fmt='.1f', square=True)"
      ],
      "execution_count": null,
      "outputs": [
        {
          "output_type": "execute_result",
          "data": {
            "text/plain": [
              "<matplotlib.axes._subplots.AxesSubplot at 0x7f1445107ef0>"
            ]
          },
          "metadata": {
            "tags": []
          },
          "execution_count": 24
        },
        {
          "output_type": "display_data",
          "data": {
            "image/png": "[encoded data removed]",
            "text/plain": [
              "<Figure size 936x648 with 1 Axes>"
            ]
          },
          "metadata": {
            "tags": [],
            "needs_background": "light"
          }
        }
      ]
    },
    {
      "cell_type": "code",
      "metadata": {
        "id": "-CukWVE88AUS"
      },
      "source": [
        ""
      ],
      "execution_count": null,
      "outputs": []
    },
    {
      "cell_type": "markdown",
      "metadata": {
        "id": "s0kPs_pp3T_6"
      },
      "source": [
        "# Implementing the Solution"
      ]
    },
    {
      "cell_type": "code",
      "metadata": {
        "id": "kegru7uj3esX"
      },
      "source": [
        "# Importing other used libraries\n",
        "import matplotlib.pyplot as plt\n",
        "import seaborn as sns\n",
        "import seaborn as sns; sns.set(font_scale=1.2)\n",
        "from sklearn.svm import SVC\n",
        "from sklearn import svm\n",
        "from sklearn.decomposition import PCA\n",
        "from sklearn.metrics import confusion_matrix,accuracy_score\n",
        "%matplotlib inline\n",
        "from sklearn.model_selection import train_test_split, cross_val_score\n",
        "from sklearn.preprocessing import StandardScaler\n",
        "from sklearn import linear_model\n",
        "from sklearn.model_selection import GridSearchCV, RandomizedSearchCV"
      ],
      "execution_count": null,
      "outputs": []
    },
    {
      "cell_type": "code",
      "metadata": {
        "id": "_XR--VmrLqL4"
      },
      "source": [
        "cleveland[['thal', 'ca']] = cleveland[['thal', 'ca']].astype(float)"
      ],
      "execution_count": null,
      "outputs": []
    },
    {
      "cell_type": "code",
      "metadata": {
        "id": "FVxeLIUfaUau",
        "colab": {
          "base_uri": "https://localhost:8080/",
          "height": 277
        },
        "outputId": "d906e218-2228-4537-97e3-c41a9f08ebf5"
      },
      "source": [
        "cleveland.dtypes"
      ],
      "execution_count": null,
      "outputs": [
        {
          "output_type": "execute_result",
          "data": {
            "text/plain": [
              "age           int64\n",
              "sex           int64\n",
              "cp            int64\n",
              "trestbps      int64\n",
              "chol          int64\n",
              "fbs           int64\n",
              "restecg       int64\n",
              "thalach       int64\n",
              "exang         int64\n",
              "oldpeak     float64\n",
              "slope         int64\n",
              "ca          float64\n",
              "thal        float64\n",
              "target        int64\n",
              "dtype: object"
            ]
          },
          "metadata": {
            "tags": []
          },
          "execution_count": 27
        }
      ]
    },
    {
      "cell_type": "code",
      "metadata": {
        "id": "AffdqHn_3_y7"
      },
      "source": [
        "X = cleveland.drop(['target'], axis=1)\n",
        "y = cleveland['target']\n",
        "\n",
        "# Data Reduction\n",
        "# Is PCA the best method here?\n",
        "# Applying the reduction algorithm: PCA\n",
        "# from sklearn import decomposition\n",
        "# pca = decomposition.PCA(n_components=5).fit(X)\n",
        "# X = pca.transform(X)\n",
        "# X.shape"
      ],
      "execution_count": null,
      "outputs": []
    },
    {
      "cell_type": "code",
      "metadata": {
        "id": "JLUMoG3a4fzB"
      },
      "source": [
        "#  Split the data into train and test set\n",
        "X_train, X_test, y_train, y_test = train_test_split(X, y, test_size = 0.2, random_state = 0)"
      ],
      "execution_count": null,
      "outputs": []
    },
    {
      "cell_type": "code",
      "metadata": {
        "id": "is2pcCyG4iqb"
      },
      "source": [
        "# scaling data\n",
        "scaler = StandardScaler()\n",
        "X_train = scaler.fit_transform(X_train)\n",
        "X_test = scaler.transform(X_test)"
      ],
      "execution_count": null,
      "outputs": []
    },
    {
      "cell_type": "code",
      "metadata": {
        "id": "orpaEcw-d3Ww"
      },
      "source": [
        "# Classification task\n",
        "# Random Forest\n",
        "# Ada Boost Classifier\n",
        "# Neutral Networks\n",
        "# Naive Bayes Classifier\n",
        "# SVMs: linear, rbf, polynomial"
      ],
      "execution_count": null,
      "outputs": []
    },
    {
      "cell_type": "code",
      "metadata": {
        "id": "PLZ6oaJL5a-g"
      },
      "source": [
        "from sklearn.ensemble import AdaBoostClassifier\n",
        "from sklearn.ensemble import GradientBoostingClassifier\n",
        "from sklearn.neighbors import KNeighborsClassifier\n",
        "from sklearn.svm import SVC,LinearSVC\n",
        "from sklearn.ensemble import RandomForestClassifier\n",
        "from sklearn import metrics\n"
      ],
      "execution_count": null,
      "outputs": []
    },
    {
      "cell_type": "code",
      "metadata": {
        "id": "4i7nzdLU51Sk"
      },
      "source": [
        "seed = 42"
      ],
      "execution_count": null,
      "outputs": []
    },
    {
      "cell_type": "code",
      "metadata": {
        "id": "x3aNmZ8W4lWC"
      },
      "source": [
        "# Baseline models\n",
        "# svm = SVR()\n",
        "knn = KNeighborsClassifier(n_jobs = -1)\n",
        "rf =  RandomForestClassifier(n_jobs = -1, random_state = seed)\n",
        "ab = AdaBoostClassifier(random_state = seed)\n",
        "gb = GradientBoostingClassifier(random_state = seed)"
      ],
      "execution_count": null,
      "outputs": []
    },
    {
      "cell_type": "code",
      "metadata": {
        "id": "5rADt12Q6Btt"
      },
      "source": [
        "\n",
        "def train_test_split_score(model):\n",
        "    from sklearn.metrics import accuracy_score\n",
        "    from sklearn.model_selection import train_test_split\n",
        "    X_train, X_test, Y_train, Y_test = train_test_split(X, y, test_size = 0.3, random_state = seed)\n",
        "    model.fit(X_train, Y_train)\n",
        "    prediction = model.predict(X_test)\n",
        "    accuracy_score = metrics.accuracy_score(Y_test, prediction)\n",
        "    classification_report = metrics.classification_report(Y_test, prediction)\n",
        "    return accuracy_score\n",
        "    \n"
      ],
      "execution_count": null,
      "outputs": []
    },
    {
      "cell_type": "code",
      "metadata": {
        "id": "7g_ykMsJnu85",
        "colab": {
          "base_uri": "https://localhost:8080/"
        },
        "outputId": "52b0d6fe-8d02-4004-ce2d-1c793ecaed6e"
      },
      "source": [
        "models = [knn, rf, ab, gb]\n",
        "model_list = ['knn', 'rf', 'ab', 'gb']\n",
        "for i, j in zip(models, model_list):\n",
        "  print(\"Algorithm is\", j, train_test_split_score(i))"
      ],
      "execution_count": null,
      "outputs": [
        {
          "output_type": "stream",
          "text": [
            "/usr/local/lib/python3.6/dist-packages/sklearn/metrics/_classification.py:1272: UndefinedMetricWarning: Precision and F-score are ill-defined and being set to 0.0 in labels with no predicted samples. Use `zero_division` parameter to control this behavior.\n",
            "  _warn_prf(average, modifier, msg_start, len(result))\n"
          ],
          "name": "stderr"
        },
        {
          "output_type": "stream",
          "text": [
            "Algorithm is knn 0.5\n",
            "Algorithm is rf 0.5777777777777777\n",
            "Algorithm is ab 0.5333333333333333\n",
            "Algorithm is gb 0.5555555555555556\n"
          ],
          "name": "stdout"
        }
      ]
    },
    {
      "cell_type": "markdown",
      "metadata": {
        "id": "kQhrW9z57MuH"
      },
      "source": [
        "- Changing the random state to 42 produced an error of [sklearn error ValueError: Input contains NaN, infinity or a value too large for dtype('float64')], hence recommending using a random state of 0"
      ]
    },
    {
      "cell_type": "code",
      "metadata": {
        "id": "Cj0PhFdhjtmO"
      },
      "source": [
        ""
      ],
      "execution_count": null,
      "outputs": []
    },
    {
      "cell_type": "markdown",
      "metadata": {
        "id": "YGiP5-5leBKF"
      },
      "source": [
        "## SVM"
      ]
    },
    {
      "cell_type": "code",
      "metadata": {
        "id": "epyDwY3Jgr79"
      },
      "source": [
        "import seaborn as sns; sns.set(font_scale=1.2)\n",
        "# Import Suport Vector Classifier module from svm library. We'll use SVC to model our data\n",
        "from sklearn.svm import SVC,LinearSVC\n",
        "from sklearn.model_selection import train_test_split\n",
        "# Import scikit-learn metrics module for accuracy calculation\n",
        "from sklearn.metrics import  accuracy_score\n",
        "from sklearn.metrics import confusion_matrix"
      ],
      "execution_count": null,
      "outputs": []
    },
    {
      "cell_type": "code",
      "metadata": {
        "id": "281cQ3DTftcD",
        "colab": {
          "base_uri": "https://localhost:8080/",
          "height": 34
        },
        "outputId": "4fba0fbc-b179-4621-eefb-a5b4a3abf68d"
      },
      "source": [
        "# Seperating the target from our data\n",
        "X = cleveland.drop(['target'], axis=1) # We remove diagnosis column since its our target column and id because its not relevant in diagnosis. \n",
        "y = cleveland['target']\n",
        "\n",
        "#  Split the data into train and test set\n",
        "X_train, X_test, y_train, y_test = train_test_split(X, y, test_size = 0.2, random_state = 0)\n",
        "y_test.shape"
      ],
      "execution_count": null,
      "outputs": [
        {
          "output_type": "execute_result",
          "data": {
            "text/plain": [
              "(60,)"
            ]
          },
          "metadata": {
            "tags": []
          },
          "execution_count": 38
        }
      ]
    },
    {
      "cell_type": "code",
      "metadata": {
        "id": "eo7Suos_fqAc",
        "colab": {
          "base_uri": "https://localhost:8080/",
          "height": 69
        },
        "outputId": "b5038bd5-af15-41d7-9ac0-7526b7e5f041"
      },
      "source": [
        "# Let's now build the svm model \n",
        "data = SVC(kernel = 'linear')\n",
        "# Train the model using the training set\n",
        "data.fit(X_train,y_train)\n",
        "\n",
        "# Predict the response for the test set\n",
        "y_pred = data.predict(X_test)\n",
        "y_pred"
      ],
      "execution_count": null,
      "outputs": [
        {
          "output_type": "execute_result",
          "data": {
            "text/plain": [
              "array([0, 0, 3, 0, 0, 0, 0, 0, 2, 1, 0, 0, 2, 0, 0, 0, 1, 0, 2, 0, 1, 2,\n",
              "       0, 0, 0, 0, 0, 0, 0, 0, 1, 0, 1, 1, 0, 3, 0, 0, 2, 0, 0, 3, 0, 0,\n",
              "       0, 0, 3, 0, 0, 0, 3, 3, 1, 0, 0, 2, 0, 1, 0, 0])"
            ]
          },
          "metadata": {
            "tags": []
          },
          "execution_count": 39
        }
      ]
    },
    {
      "cell_type": "code",
      "metadata": {
        "id": "YYEgoUe_gBJl",
        "colab": {
          "base_uri": "https://localhost:8080/"
        },
        "outputId": "6594339e-f90b-4c4e-cc6b-9c1e590e55e6"
      },
      "source": [
        "# Now that we have trained our model, let's test how well it can predict the \n",
        "\n",
        "# Checking the accurancy of the model\n",
        "model_accuracy = accuracy_score(y_test,y_pred)\n",
        "model_accuracy\n",
        "\n",
        "# We've gotten a classification rate of 96.05%. This is a pretty good accuracy score \n",
        "\n",
        "# For further evaluation you can also check the confusion matrix\n",
        "confusion_matrix = confusion_matrix(y_test, y_pred)\n",
        "confusion_matrix"
      ],
      "execution_count": null,
      "outputs": [
        {
          "output_type": "execute_result",
          "data": {
            "text/plain": [
              "array([[27,  2,  1,  0,  0],\n",
              "       [ 9,  1,  1,  1,  0],\n",
              "       [ 1,  2,  1,  3,  0],\n",
              "       [ 1,  1,  3,  1,  0],\n",
              "       [ 2,  2,  0,  1,  0]])"
            ]
          },
          "metadata": {
            "tags": []
          },
          "execution_count": 40
        }
      ]
    },
    {
      "cell_type": "code",
      "metadata": {
        "id": "Ip2p2zgfgFB-",
        "colab": {
          "base_uri": "https://localhost:8080/"
        },
        "outputId": "0c683653-6544-4542-9b06-cb25f50f5895"
      },
      "source": [
        "model_accuracy"
      ],
      "execution_count": null,
      "outputs": [
        {
          "output_type": "execute_result",
          "data": {
            "text/plain": [
              "0.5"
            ]
          },
          "metadata": {
            "tags": []
          },
          "execution_count": 41
        }
      ]
    },
    {
      "cell_type": "markdown",
      "metadata": {
        "id": "PKNLiAhfiBPR"
      },
      "source": [
        "### Poly"
      ]
    },
    {
      "cell_type": "code",
      "metadata": {
        "id": "PY79tKRZiDGR"
      },
      "source": [
        "poly = svm.SVC(kernel='poly', degree=3, C=1, decision_function_shape='ovo').fit(X_train, y_train)"
      ],
      "execution_count": null,
      "outputs": []
    },
    {
      "cell_type": "code",
      "metadata": {
        "id": "wrabRUOoiL6w"
      },
      "source": [
        "# Making the prediction\n",
        "# making prediction\n",
        "y_pred = poly.predict(X_test)"
      ],
      "execution_count": null,
      "outputs": []
    },
    {
      "cell_type": "code",
      "metadata": {
        "id": "DcD7osDkiPqE",
        "colab": {
          "base_uri": "https://localhost:8080/"
        },
        "outputId": "1f4fb832-2b4e-40b4-fd68-5c761dff37bf"
      },
      "source": [
        "# Model Evaluation\n",
        "print('Poly Accuracy Score:', accuracy_score(y_test, y_pred))\n",
        "print(confusion_matrix(y_test, y_pred))"
      ],
      "execution_count": null,
      "outputs": [
        {
          "output_type": "stream",
          "text": [
            "Poly Accuracy Score: 0.5\n"
          ],
          "name": "stdout"
        },
        {
          "output_type": "error",
          "ename": "TypeError",
          "evalue": "ignored",
          "traceback": [
            "\u001b[0;31m---------------------------------------------------------------------------\u001b[0m",
            "\u001b[0;31mTypeError\u001b[0m                                 Traceback (most recent call last)",
            "\u001b[0;32m<ipython-input-45-8192b7641d26>\u001b[0m in \u001b[0;36m<module>\u001b[0;34m()\u001b[0m\n\u001b[1;32m      1\u001b[0m \u001b[0;31m# Model Evaluation\u001b[0m\u001b[0;34m\u001b[0m\u001b[0;34m\u001b[0m\u001b[0;34m\u001b[0m\u001b[0m\n\u001b[1;32m      2\u001b[0m \u001b[0mprint\u001b[0m\u001b[0;34m(\u001b[0m\u001b[0;34m'Poly Accuracy Score:'\u001b[0m\u001b[0;34m,\u001b[0m \u001b[0maccuracy_score\u001b[0m\u001b[0;34m(\u001b[0m\u001b[0my_test\u001b[0m\u001b[0;34m,\u001b[0m \u001b[0my_pred\u001b[0m\u001b[0;34m)\u001b[0m\u001b[0;34m)\u001b[0m\u001b[0;34m\u001b[0m\u001b[0;34m\u001b[0m\u001b[0m\n\u001b[0;32m----> 3\u001b[0;31m \u001b[0mprint\u001b[0m\u001b[0;34m(\u001b[0m\u001b[0mconfusion_matrix\u001b[0m\u001b[0;34m(\u001b[0m\u001b[0my_test\u001b[0m\u001b[0;34m,\u001b[0m \u001b[0my_pred\u001b[0m\u001b[0;34m)\u001b[0m\u001b[0;34m)\u001b[0m\u001b[0;34m\u001b[0m\u001b[0;34m\u001b[0m\u001b[0m\n\u001b[0m",
            "\u001b[0;31mTypeError\u001b[0m: 'numpy.ndarray' object is not callable"
          ]
        }
      ]
    },
    {
      "cell_type": "markdown",
      "metadata": {
        "id": "s6l5jeKlhgjL"
      },
      "source": [
        "### RBF"
      ]
    },
    {
      "cell_type": "code",
      "metadata": {
        "id": "ISGgH5Y-gVd1",
        "colab": {
          "base_uri": "https://localhost:8080/"
        },
        "outputId": "1d16a991-36a6-4cdc-939b-0a608daf2fa2"
      },
      "source": [
        "# Building the model \n",
        "rbfclassifier = SVC(kernel='rbf')\n",
        "# Training the model using the training set\n",
        "rbfclassifier.fit(X_train, y_train)"
      ],
      "execution_count": null,
      "outputs": [
        {
          "output_type": "execute_result",
          "data": {
            "text/plain": [
              "SVC(C=1.0, break_ties=False, cache_size=200, class_weight=None, coef0=0.0,\n",
              "    decision_function_shape='ovr', degree=3, gamma='scale', kernel='rbf',\n",
              "    max_iter=-1, probability=False, random_state=None, shrinking=True,\n",
              "    tol=0.001, verbose=False)"
            ]
          },
          "metadata": {
            "tags": []
          },
          "execution_count": 46
        }
      ]
    },
    {
      "cell_type": "code",
      "metadata": {
        "id": "aIRNo7zmhW5v"
      },
      "source": [
        "# making prediction\n",
        "y_pred = rbfclassifier.predict(X_test)"
      ],
      "execution_count": null,
      "outputs": []
    },
    {
      "cell_type": "code",
      "metadata": {
        "id": "dnkiW_cmhlwI",
        "colab": {
          "base_uri": "https://localhost:8080/",
          "height": 217
        },
        "outputId": "3d884113-2a6e-4d2e-c419-bef0ef35bdf7"
      },
      "source": [
        "# Model Evaluation\n",
        "print('RBFclassifier Accuracy Score:', accuracy_score(y_test, y_pred))\n",
        "print(confusion_matrix(y_test, y_pred))"
      ],
      "execution_count": null,
      "outputs": [
        {
          "output_type": "stream",
          "text": [
            "RBFclassifier Accuracy Score: 0.5\n"
          ],
          "name": "stdout"
        },
        {
          "output_type": "error",
          "ename": "TypeError",
          "evalue": "ignored",
          "traceback": [
            "\u001b[0;31m---------------------------------------------------------------------------\u001b[0m",
            "\u001b[0;31mTypeError\u001b[0m                                 Traceback (most recent call last)",
            "\u001b[0;32m<ipython-input-48-c863ca1c8e53>\u001b[0m in \u001b[0;36m<module>\u001b[0;34m()\u001b[0m\n\u001b[1;32m      1\u001b[0m \u001b[0;31m# Model Evaluation\u001b[0m\u001b[0;34m\u001b[0m\u001b[0;34m\u001b[0m\u001b[0;34m\u001b[0m\u001b[0m\n\u001b[1;32m      2\u001b[0m \u001b[0mprint\u001b[0m\u001b[0;34m(\u001b[0m\u001b[0;34m'RBFclassifier Accuracy Score:'\u001b[0m\u001b[0;34m,\u001b[0m \u001b[0maccuracy_score\u001b[0m\u001b[0;34m(\u001b[0m\u001b[0my_test\u001b[0m\u001b[0;34m,\u001b[0m \u001b[0my_pred\u001b[0m\u001b[0;34m)\u001b[0m\u001b[0;34m)\u001b[0m\u001b[0;34m\u001b[0m\u001b[0;34m\u001b[0m\u001b[0m\n\u001b[0;32m----> 3\u001b[0;31m \u001b[0mprint\u001b[0m\u001b[0;34m(\u001b[0m\u001b[0mconfusion_matrix\u001b[0m\u001b[0;34m(\u001b[0m\u001b[0my_test\u001b[0m\u001b[0;34m,\u001b[0m \u001b[0my_pred\u001b[0m\u001b[0;34m)\u001b[0m\u001b[0;34m)\u001b[0m\u001b[0;34m\u001b[0m\u001b[0;34m\u001b[0m\u001b[0m\n\u001b[0m",
            "\u001b[0;31mTypeError\u001b[0m: 'numpy.ndarray' object is not callable"
          ]
        }
      ]
    },
    {
      "cell_type": "markdown",
      "metadata": {
        "id": "dksd4X-uhoTt"
      },
      "source": [
        "### Sigmoid"
      ]
    },
    {
      "cell_type": "code",
      "metadata": {
        "id": "swUbLndrhuTc",
        "colab": {
          "base_uri": "https://localhost:8080/",
          "height": 86
        },
        "outputId": "7147dce3-d2c4-4167-8da9-0b1533941ffc"
      },
      "source": [
        "# Building the model \n",
        "sigclassifier = SVC(kernel='sigmoid')\n",
        "# Training the model using the training set\n",
        "sigclassifier.fit(X_train, y_train)"
      ],
      "execution_count": null,
      "outputs": [
        {
          "output_type": "execute_result",
          "data": {
            "text/plain": [
              "SVC(C=1.0, break_ties=False, cache_size=200, class_weight=None, coef0=0.0,\n",
              "    decision_function_shape='ovr', degree=3, gamma='scale', kernel='sigmoid',\n",
              "    max_iter=-1, probability=False, random_state=None, shrinking=True,\n",
              "    tol=0.001, verbose=False)"
            ]
          },
          "metadata": {
            "tags": []
          },
          "execution_count": 49
        }
      ]
    },
    {
      "cell_type": "code",
      "metadata": {
        "id": "V1Do1UuPhx0x"
      },
      "source": [
        "# making prediction\n",
        "y_pred = sigclassifier.predict(X_test)"
      ],
      "execution_count": null,
      "outputs": []
    },
    {
      "cell_type": "code",
      "metadata": {
        "id": "HaXg7kP7h0OW",
        "colab": {
          "base_uri": "https://localhost:8080/",
          "height": 217
        },
        "outputId": "c4f34db3-4586-4441-ea5b-6f7df1692551"
      },
      "source": [
        "# Model Evaluation\n",
        "print('Sigmoidclassifier Accuracy Score:', accuracy_score(y_test, y_pred))\n",
        "print(confusion_matrix(y_test, y_pred))"
      ],
      "execution_count": null,
      "outputs": [
        {
          "output_type": "stream",
          "text": [
            "Sigmoidclassifier Accuracy Score: 0.5\n"
          ],
          "name": "stdout"
        },
        {
          "output_type": "error",
          "ename": "TypeError",
          "evalue": "ignored",
          "traceback": [
            "\u001b[0;31m---------------------------------------------------------------------------\u001b[0m",
            "\u001b[0;31mTypeError\u001b[0m                                 Traceback (most recent call last)",
            "\u001b[0;32m<ipython-input-51-99971fcaa27c>\u001b[0m in \u001b[0;36m<module>\u001b[0;34m()\u001b[0m\n\u001b[1;32m      1\u001b[0m \u001b[0;31m# Model Evaluation\u001b[0m\u001b[0;34m\u001b[0m\u001b[0;34m\u001b[0m\u001b[0;34m\u001b[0m\u001b[0m\n\u001b[1;32m      2\u001b[0m \u001b[0mprint\u001b[0m\u001b[0;34m(\u001b[0m\u001b[0;34m'Sigmoidclassifier Accuracy Score:'\u001b[0m\u001b[0;34m,\u001b[0m \u001b[0maccuracy_score\u001b[0m\u001b[0;34m(\u001b[0m\u001b[0my_test\u001b[0m\u001b[0;34m,\u001b[0m \u001b[0my_pred\u001b[0m\u001b[0;34m)\u001b[0m\u001b[0;34m)\u001b[0m\u001b[0;34m\u001b[0m\u001b[0;34m\u001b[0m\u001b[0m\n\u001b[0;32m----> 3\u001b[0;31m \u001b[0mprint\u001b[0m\u001b[0;34m(\u001b[0m\u001b[0mconfusion_matrix\u001b[0m\u001b[0;34m(\u001b[0m\u001b[0my_test\u001b[0m\u001b[0;34m,\u001b[0m \u001b[0my_pred\u001b[0m\u001b[0;34m)\u001b[0m\u001b[0;34m)\u001b[0m\u001b[0;34m\u001b[0m\u001b[0;34m\u001b[0m\u001b[0m\n\u001b[0m",
            "\u001b[0;31mTypeError\u001b[0m: 'numpy.ndarray' object is not callable"
          ]
        }
      ]
    },
    {
      "cell_type": "markdown",
      "metadata": {
        "id": "MCYgWwi5AWhQ"
      },
      "source": [
        "# Neural networks"
      ]
    },
    {
      "cell_type": "code",
      "metadata": {
        "id": "M4zRnGnmAZvN"
      },
      "source": [
        "X = np.array(cleveland.drop(['target'], 1))\n",
        "y = np.array(cleveland['target'])"
      ],
      "execution_count": null,
      "outputs": []
    },
    {
      "cell_type": "code",
      "metadata": {
        "id": "Qb2mKJP4VBPG",
        "colab": {
          "base_uri": "https://localhost:8080/",
          "height": 34
        },
        "outputId": "1240cf21-c861-4796-f581-42ed87db76a3"
      },
      "source": [
        "X.shape"
      ],
      "execution_count": null,
      "outputs": [
        {
          "output_type": "execute_result",
          "data": {
            "text/plain": [
              "(297, 13)"
            ]
          },
          "metadata": {
            "tags": []
          },
          "execution_count": 65
        }
      ]
    },
    {
      "cell_type": "code",
      "metadata": {
        "id": "t1c6bBZ5U_Zs",
        "colab": {
          "base_uri": "https://localhost:8080/",
          "height": 34
        },
        "outputId": "99d59e91-91f3-4b62-d364-e63511e9b09d"
      },
      "source": [
        "y.shape"
      ],
      "execution_count": null,
      "outputs": [
        {
          "output_type": "execute_result",
          "data": {
            "text/plain": [
              "(297,)"
            ]
          },
          "metadata": {
            "tags": []
          },
          "execution_count": 66
        }
      ]
    },
    {
      "cell_type": "code",
      "metadata": {
        "id": "ZmoEKp1vAoxC"
      },
      "source": [
        "# create X and Y datasets for training\n",
        "from sklearn import model_selection\n",
        "\n",
        "X_train, X_test, y_train, y_test = model_selection.train_test_split(X, y, stratify=y, random_state=42, test_size = 0.2)"
      ],
      "execution_count": null,
      "outputs": []
    },
    {
      "cell_type": "code",
      "metadata": {
        "id": "huVZALc2emhm"
      },
      "source": [
        "# scaling data\n",
        "scaler = StandardScaler()\n",
        "X_train = scaler.fit_transform(X_train)\n",
        "X_test = scaler.transform(X_test)"
      ],
      "execution_count": null,
      "outputs": []
    },
    {
      "cell_type": "code",
      "metadata": {
        "id": "9WktMH1CA3Xz"
      },
      "source": [
        "# Importing the libraries\n",
        "\n",
        "from keras.models import Sequential\n",
        "from keras.layers import Dense\n",
        "from keras.optimizers import Adam\n",
        "from keras.layers import Dropout\n",
        "from keras import regularizers"
      ],
      "execution_count": null,
      "outputs": []
    },
    {
      "cell_type": "markdown",
      "metadata": {
        "id": "-1o2_o4cRlS1"
      },
      "source": [
        "## Model performance Binary method"
      ]
    },
    {
      "cell_type": "code",
      "metadata": {
        "id": "3YMsTnHnRXqk",
        "colab": {
          "base_uri": "https://localhost:8080/",
          "height": 34
        },
        "outputId": "098fc4b7-ab4b-404f-a94d-f4cc27a357ac"
      },
      "source": [
        "# convert into binary classification problem - heart disease or no heart disease\n",
        "Y_train_binary = y_train.copy()\n",
        "Y_test_binary = y_test.copy()\n",
        "\n",
        "Y_train_binary[Y_train_binary > 0] = 1\n",
        "Y_test_binary[Y_test_binary > 0] = 1\n",
        "\n",
        "print(Y_train_binary[:20])"
      ],
      "execution_count": null,
      "outputs": [
        {
          "output_type": "stream",
          "text": [
            "[1 0 0 0 0 0 0 0 0 1 0 1 0 0 0 0 0 0 1 0]\n"
          ],
          "name": "stdout"
        }
      ]
    },
    {
      "cell_type": "code",
      "metadata": {
        "id": "sXAOE1tHRcoy",
        "colab": {
          "base_uri": "https://localhost:8080/",
          "height": 346
        },
        "outputId": "8866f30d-60f2-46fe-b66f-382ab66a5737"
      },
      "source": [
        "# define a new keras model for binary classification\n",
        "def create_binary_model():\n",
        "    # create model\n",
        "    model = Sequential()\n",
        "    model.add(Dense(16, input_dim=13, kernel_initializer='normal',  kernel_regularizer=regularizers.l2(0.001),activation='relu'))\n",
        "    model.add(Dropout(0.25))\n",
        "    model.add(Dense(8, kernel_initializer='normal',  kernel_regularizer=regularizers.l2(0.001),activation='relu'))\n",
        "    model.add(Dropout(0.25))\n",
        "    model.add(Dense(1, activation='sigmoid'))\n",
        "    \n",
        "    # Compile model\n",
        "    adam = Adam(lr=0.001)\n",
        "    model.compile(loss='binary_crossentropy', optimizer='rmsprop', metrics=['accuracy'])\n",
        "    return model\n",
        "\n",
        "binary_model = create_binary_model()\n",
        "\n",
        "print(binary_model.summary())"
      ],
      "execution_count": null,
      "outputs": [
        {
          "output_type": "stream",
          "text": [
            "Model: \"sequential_1\"\n",
            "_________________________________________________________________\n",
            "Layer (type)                 Output Shape              Param #   \n",
            "=================================================================\n",
            "dense_3 (Dense)              (None, 16)                224       \n",
            "_________________________________________________________________\n",
            "dropout_2 (Dropout)          (None, 16)                0         \n",
            "_________________________________________________________________\n",
            "dense_4 (Dense)              (None, 8)                 136       \n",
            "_________________________________________________________________\n",
            "dropout_3 (Dropout)          (None, 8)                 0         \n",
            "_________________________________________________________________\n",
            "dense_5 (Dense)              (None, 1)                 9         \n",
            "=================================================================\n",
            "Total params: 369\n",
            "Trainable params: 369\n",
            "Non-trainable params: 0\n",
            "_________________________________________________________________\n",
            "None\n"
          ],
          "name": "stdout"
        }
      ]
    },
    {
      "cell_type": "code",
      "metadata": {
        "id": "haHD1aegRg0L",
        "colab": {
          "base_uri": "https://localhost:8080/",
          "height": 1000
        },
        "outputId": "9185ebc3-a5c1-464d-e27e-5c513acf8510"
      },
      "source": [
        "# fit the binary model on the training data\n",
        "history=binary_model.fit(X_train, Y_train_binary, validation_data=(X_test, Y_test_binary), epochs=50, batch_size=10)"
      ],
      "execution_count": null,
      "outputs": [
        {
          "output_type": "stream",
          "text": [
            "Epoch 1/50\n",
            "24/24 [==============================] - 0s 8ms/step - loss: 0.6840 - accuracy: 0.6456 - val_loss: 0.6687 - val_accuracy: 0.8000\n",
            "Epoch 2/50\n",
            "24/24 [==============================] - 0s 4ms/step - loss: 0.6598 - accuracy: 0.7426 - val_loss: 0.6369 - val_accuracy: 0.8167\n",
            "Epoch 3/50\n",
            "24/24 [==============================] - 0s 4ms/step - loss: 0.6313 - accuracy: 0.7468 - val_loss: 0.5965 - val_accuracy: 0.8167\n",
            "Epoch 4/50\n",
            "24/24 [==============================] - 0s 4ms/step - loss: 0.5986 - accuracy: 0.8059 - val_loss: 0.5527 - val_accuracy: 0.8500\n",
            "Epoch 5/50\n",
            "24/24 [==============================] - 0s 4ms/step - loss: 0.5506 - accuracy: 0.8270 - val_loss: 0.5048 - val_accuracy: 0.8667\n",
            "Epoch 6/50\n",
            "24/24 [==============================] - 0s 4ms/step - loss: 0.5226 - accuracy: 0.7932 - val_loss: 0.4646 - val_accuracy: 0.8667\n",
            "Epoch 7/50\n",
            "24/24 [==============================] - 0s 4ms/step - loss: 0.5032 - accuracy: 0.7975 - val_loss: 0.4323 - val_accuracy: 0.8667\n",
            "Epoch 8/50\n",
            "24/24 [==============================] - 0s 4ms/step - loss: 0.4880 - accuracy: 0.8354 - val_loss: 0.4073 - val_accuracy: 0.8667\n",
            "Epoch 9/50\n",
            "24/24 [==============================] - 0s 4ms/step - loss: 0.4566 - accuracy: 0.8439 - val_loss: 0.3826 - val_accuracy: 0.8667\n",
            "Epoch 10/50\n",
            "24/24 [==============================] - 0s 4ms/step - loss: 0.4298 - accuracy: 0.8565 - val_loss: 0.3654 - val_accuracy: 0.8667\n",
            "Epoch 11/50\n",
            "24/24 [==============================] - 0s 4ms/step - loss: 0.4361 - accuracy: 0.8650 - val_loss: 0.3517 - val_accuracy: 0.8500\n",
            "Epoch 12/50\n",
            "24/24 [==============================] - 0s 4ms/step - loss: 0.4172 - accuracy: 0.8608 - val_loss: 0.3416 - val_accuracy: 0.8500\n",
            "Epoch 13/50\n",
            "24/24 [==============================] - 0s 4ms/step - loss: 0.4004 - accuracy: 0.8650 - val_loss: 0.3332 - val_accuracy: 0.8500\n",
            "Epoch 14/50\n",
            "24/24 [==============================] - 0s 4ms/step - loss: 0.4131 - accuracy: 0.8523 - val_loss: 0.3288 - val_accuracy: 0.8500\n",
            "Epoch 15/50\n",
            "24/24 [==============================] - 0s 4ms/step - loss: 0.3971 - accuracy: 0.8650 - val_loss: 0.3256 - val_accuracy: 0.8500\n",
            "Epoch 16/50\n",
            "24/24 [==============================] - 0s 4ms/step - loss: 0.3888 - accuracy: 0.8565 - val_loss: 0.3262 - val_accuracy: 0.8500\n",
            "Epoch 17/50\n",
            "24/24 [==============================] - 0s 4ms/step - loss: 0.3746 - accuracy: 0.8565 - val_loss: 0.3239 - val_accuracy: 0.8500\n",
            "Epoch 18/50\n",
            "24/24 [==============================] - 0s 4ms/step - loss: 0.3983 - accuracy: 0.8734 - val_loss: 0.3246 - val_accuracy: 0.8500\n",
            "Epoch 19/50\n",
            "24/24 [==============================] - 0s 4ms/step - loss: 0.3876 - accuracy: 0.8776 - val_loss: 0.3246 - val_accuracy: 0.8500\n",
            "Epoch 20/50\n",
            "24/24 [==============================] - 0s 4ms/step - loss: 0.3858 - accuracy: 0.8650 - val_loss: 0.3229 - val_accuracy: 0.8500\n",
            "Epoch 21/50\n",
            "24/24 [==============================] - 0s 4ms/step - loss: 0.3669 - accuracy: 0.8734 - val_loss: 0.3226 - val_accuracy: 0.8500\n",
            "Epoch 22/50\n",
            "24/24 [==============================] - 0s 4ms/step - loss: 0.3823 - accuracy: 0.8608 - val_loss: 0.3261 - val_accuracy: 0.8500\n",
            "Epoch 23/50\n",
            "24/24 [==============================] - 0s 4ms/step - loss: 0.3623 - accuracy: 0.8650 - val_loss: 0.3292 - val_accuracy: 0.8500\n",
            "Epoch 24/50\n",
            "24/24 [==============================] - 0s 4ms/step - loss: 0.3797 - accuracy: 0.8861 - val_loss: 0.3316 - val_accuracy: 0.8500\n",
            "Epoch 25/50\n",
            "24/24 [==============================] - 0s 4ms/step - loss: 0.3529 - accuracy: 0.8861 - val_loss: 0.3309 - val_accuracy: 0.8500\n",
            "Epoch 26/50\n",
            "24/24 [==============================] - 0s 4ms/step - loss: 0.3951 - accuracy: 0.8692 - val_loss: 0.3339 - val_accuracy: 0.8500\n",
            "Epoch 27/50\n",
            "24/24 [==============================] - 0s 4ms/step - loss: 0.3768 - accuracy: 0.8692 - val_loss: 0.3340 - val_accuracy: 0.8500\n",
            "Epoch 28/50\n",
            "24/24 [==============================] - 0s 4ms/step - loss: 0.3477 - accuracy: 0.8650 - val_loss: 0.3366 - val_accuracy: 0.8500\n",
            "Epoch 29/50\n",
            "24/24 [==============================] - 0s 4ms/step - loss: 0.3451 - accuracy: 0.8734 - val_loss: 0.3403 - val_accuracy: 0.8333\n",
            "Epoch 30/50\n",
            "24/24 [==============================] - 0s 4ms/step - loss: 0.3624 - accuracy: 0.8692 - val_loss: 0.3442 - val_accuracy: 0.8333\n",
            "Epoch 31/50\n",
            "24/24 [==============================] - 0s 4ms/step - loss: 0.3740 - accuracy: 0.8819 - val_loss: 0.3434 - val_accuracy: 0.8333\n",
            "Epoch 32/50\n",
            "24/24 [==============================] - 0s 4ms/step - loss: 0.3490 - accuracy: 0.8692 - val_loss: 0.3472 - val_accuracy: 0.8333\n",
            "Epoch 33/50\n",
            "24/24 [==============================] - 0s 4ms/step - loss: 0.3554 - accuracy: 0.8650 - val_loss: 0.3529 - val_accuracy: 0.8333\n",
            "Epoch 34/50\n",
            "24/24 [==============================] - 0s 4ms/step - loss: 0.3575 - accuracy: 0.8734 - val_loss: 0.3528 - val_accuracy: 0.8333\n",
            "Epoch 35/50\n",
            "24/24 [==============================] - 0s 4ms/step - loss: 0.3664 - accuracy: 0.8819 - val_loss: 0.3529 - val_accuracy: 0.8333\n",
            "Epoch 36/50\n",
            "24/24 [==============================] - 0s 4ms/step - loss: 0.3636 - accuracy: 0.8776 - val_loss: 0.3548 - val_accuracy: 0.8333\n",
            "Epoch 37/50\n",
            "24/24 [==============================] - 0s 4ms/step - loss: 0.3389 - accuracy: 0.8650 - val_loss: 0.3571 - val_accuracy: 0.8333\n",
            "Epoch 38/50\n",
            "24/24 [==============================] - 0s 4ms/step - loss: 0.3607 - accuracy: 0.8819 - val_loss: 0.3586 - val_accuracy: 0.8333\n",
            "Epoch 39/50\n",
            "24/24 [==============================] - 0s 4ms/step - loss: 0.3259 - accuracy: 0.8819 - val_loss: 0.3605 - val_accuracy: 0.8333\n",
            "Epoch 40/50\n",
            "24/24 [==============================] - 0s 4ms/step - loss: 0.3688 - accuracy: 0.8776 - val_loss: 0.3619 - val_accuracy: 0.8333\n",
            "Epoch 41/50\n",
            "24/24 [==============================] - 0s 4ms/step - loss: 0.3664 - accuracy: 0.8903 - val_loss: 0.3649 - val_accuracy: 0.8333\n",
            "Epoch 42/50\n",
            "24/24 [==============================] - 0s 4ms/step - loss: 0.3703 - accuracy: 0.8819 - val_loss: 0.3642 - val_accuracy: 0.8333\n",
            "Epoch 43/50\n",
            "24/24 [==============================] - 0s 4ms/step - loss: 0.3598 - accuracy: 0.8776 - val_loss: 0.3647 - val_accuracy: 0.8333\n",
            "Epoch 44/50\n",
            "24/24 [==============================] - 0s 4ms/step - loss: 0.3702 - accuracy: 0.8734 - val_loss: 0.3638 - val_accuracy: 0.8333\n",
            "Epoch 45/50\n",
            "24/24 [==============================] - 0s 4ms/step - loss: 0.3363 - accuracy: 0.8861 - val_loss: 0.3680 - val_accuracy: 0.8333\n",
            "Epoch 46/50\n",
            "24/24 [==============================] - 0s 4ms/step - loss: 0.3782 - accuracy: 0.8608 - val_loss: 0.3650 - val_accuracy: 0.8333\n",
            "Epoch 47/50\n",
            "24/24 [==============================] - 0s 4ms/step - loss: 0.3319 - accuracy: 0.8987 - val_loss: 0.3636 - val_accuracy: 0.8333\n",
            "Epoch 48/50\n",
            "24/24 [==============================] - 0s 4ms/step - loss: 0.3477 - accuracy: 0.8861 - val_loss: 0.3667 - val_accuracy: 0.8333\n",
            "Epoch 49/50\n",
            "24/24 [==============================] - 0s 4ms/step - loss: 0.3282 - accuracy: 0.8945 - val_loss: 0.3670 - val_accuracy: 0.8333\n",
            "Epoch 50/50\n",
            "24/24 [==============================] - 0s 4ms/step - loss: 0.3606 - accuracy: 0.8819 - val_loss: 0.3673 - val_accuracy: 0.8333\n"
          ],
          "name": "stdout"
        }
      ]
    },
    {
      "cell_type": "code",
      "metadata": {
        "id": "XZRgEdlnR_hh",
        "colab": {
          "base_uri": "https://localhost:8080/",
          "height": 324
        },
        "outputId": "5bc60c3c-da14-4118-f935-077fb11c6ab8"
      },
      "source": [
        "plt.figure(0)\n",
        "plt.plot(history.history['accuracy'], label='Training Accuracy')\n",
        "plt.plot(history.history['val_accuracy'], label='Validation Accuracy')\n",
        "plt.title('Change in Accuracy')\n",
        "plt.xlabel('epochs')\n",
        "plt.ylabel('accuracy')\n",
        "plt.legend()"
      ],
      "execution_count": null,
      "outputs": [
        {
          "output_type": "execute_result",
          "data": {
            "text/plain": [
              "<matplotlib.legend.Legend at 0x7f13a0aa96d8>"
            ]
          },
          "metadata": {
            "tags": []
          },
          "execution_count": 73
        },
        {
          "output_type": "display_data",
          "data": {
            "image/png": "[encoded data removed]",
            "text/plain": [
              "<Figure size 432x288 with 1 Axes>"
            ]
          },
          "metadata": {
            "tags": []
          }
        }
      ]
    },
    {
      "cell_type": "code",
      "metadata": {
        "id": "osUi6kfESHYE",
        "colab": {
          "base_uri": "https://localhost:8080/",
          "height": 306
        },
        "outputId": "a3eabc9a-3a85-4613-9d71-ed4aeb40fb95"
      },
      "source": [
        "# Plotting the loss function vs epochs\n",
        "\n",
        "plt.figure(1)\n",
        "plt.plot(history.history['loss'], label='Training Loss')\n",
        "plt.plot(history.history['val_loss'], label='Validation Loss')\n",
        "plt.title('Change in the Loss Function')\n",
        "plt.xlabel('epochs')\n",
        "plt.ylabel('Loss')\n",
        "plt.legend()\n",
        "plt.show()"
      ],
      "execution_count": null,
      "outputs": [
        {
          "output_type": "display_data",
          "data": {
            "image/png": "[encoded data removed]",
            "text/plain": [
              "<Figure size 432x288 with 1 Axes>"
            ]
          },
          "metadata": {
            "tags": []
          }
        }
      ]
    },
    {
      "cell_type": "code",
      "metadata": {
        "id": "KAPMWnPdSS8B",
        "colab": {
          "base_uri": "https://localhost:8080/",
          "height": 208
        },
        "outputId": "136653c0-0364-4c0d-f9ec-47d164930969"
      },
      "source": [
        "# generate classification report using predictions for binary model\n",
        "from sklearn.metrics import classification_report, accuracy_score\n",
        "# generate classification report using predictions for binary model \n",
        "binary_pred = np.round(binary_model.predict(X_test)).astype(int)\n",
        "\n",
        "print('Results for Binary Model')\n",
        "print(accuracy_score(Y_test_binary, binary_pred))\n",
        "print(classification_report(Y_test_binary, binary_pred))"
      ],
      "execution_count": null,
      "outputs": [
        {
          "output_type": "stream",
          "text": [
            "Results for Binary Model\n",
            "0.8333333333333334\n",
            "              precision    recall  f1-score   support\n",
            "\n",
            "           0       0.82      0.88      0.85        32\n",
            "           1       0.85      0.79      0.81        28\n",
            "\n",
            "    accuracy                           0.83        60\n",
            "   macro avg       0.83      0.83      0.83        60\n",
            "weighted avg       0.83      0.83      0.83        60\n",
            "\n"
          ],
          "name": "stdout"
        }
      ]
    }
  ]
}